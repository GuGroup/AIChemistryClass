{
 "cells": [
  {
   "cell_type": "markdown",
   "metadata": {},
   "source": [
    "# Google Colab Tutorial\n",
    "## 1. Why Google Colab?\n",
    "Google Colab offers a free online python environment with a basic GPU where you can use pytorch and tensorflow to train deep learning. It is a convenient interface for the beginners to practice python and neural networks.\n",
    "\n",
    "## 2. How to use Google Colab \n",
    "Log in to your Google account, and go to Google colab website.\n",
    "\n",
    "<img src=\"img/img1.png\" style=\"max-width: 800px;\">\n",
    "\n",
    "Click new note book\n",
    "\n",
    "<img src=\"img/img2.png\" style=\"max-width: 800px;\">\n",
    "\n",
    "The name of the notebook can be changed as you wish\n",
    "\n",
    "<img src=\"img/img3.png\" style=\"max-width: 800px;\">\n",
    "\n",
    "The block of code can be run if you Ctrl+enter or click the arrow, + code를 눌러서 새로운 블락을 추가할 수 있습니다.\n",
    "\n",
    "<img src=\"img/img4.png\" style=\"max-width: 800px;\">\n"
   ]
  },
  {
   "cell_type": "markdown",
   "metadata": {
    "id": "yqSfOk5qIvcz"
   },
   "source": [
    "# Python tutorial\n",
    "\n",
    "Python is one of the most popular language used by the scientist. It has abundant software packages and neural network packages such as tensorflow and pytorch are based on python. Here we will begin to learn about the basics of python.\n",
    "\n",
    "## 1. Python basics\n",
    "### a. variables\n",
    "\n",
    "int = integer\n",
    "float = numbers with decimal\n",
    "str = string\n",
    "bool = true or false "
   ]
  },
  {
   "cell_type": "code",
   "execution_count": null,
   "metadata": {},
   "outputs": [],
   "source": [
    "name = 'Titanic'\n",
    "age = 1997\n",
    "price = 3.9 \n",
    "Available = False # Uppercase True or False"
   ]
  },
  {
   "cell_type": "markdown",
   "metadata": {},
   "source": [
    "#### EXERCISE\n",
    "Make variables about a new patient names John, who has height of 174.2 cm, and is 33 years old.\n",
    "Define four variables: height, age, name, and new_patient."
   ]
  },
  {
   "cell_type": "code",
   "execution_count": null,
   "metadata": {},
   "outputs": [],
   "source": []
  },
  {
   "cell_type": "markdown",
   "metadata": {},
   "source": [
    "### b. If you run into errors, the hints are in the error message"
   ]
  },
  {
   "cell_type": "code",
   "execution_count": null,
   "metadata": {},
   "outputs": [],
   "source": [
    "birth_year = '1996'\n",
    "Age = 2024 - birth_year\n",
    "print(Age)"
   ]
  },
  {
   "cell_type": "markdown",
   "metadata": {},
   "source": [
    "### c. Type Conversion"
   ]
  },
  {
   "cell_type": "code",
   "execution_count": null,
   "metadata": {},
   "outputs": [],
   "source": [
    "birth_year = '1996'\n",
    "print(type(birth_year))"
   ]
  },
  {
   "cell_type": "code",
   "execution_count": null,
   "metadata": {},
   "outputs": [],
   "source": [
    "birth_year = int(birth_year)\n",
    "print(type(birth_year))"
   ]
  },
  {
   "cell_type": "code",
   "execution_count": null,
   "metadata": {},
   "outputs": [],
   "source": [
    "Age = 2024 - birth_year\n",
    "print(Age)"
   ]
  },
  {
   "cell_type": "code",
   "execution_count": null,
   "metadata": {},
   "outputs": [],
   "source": [
    "message = 'his age is ' + str(Age)\n",
    "print(message)"
   ]
  },
  {
   "cell_type": "code",
   "execution_count": null,
   "metadata": {},
   "outputs": [],
   "source": [
    "print(str(True))\n",
    "print(int(True))"
   ]
  },
  {
   "cell_type": "code",
   "execution_count": null,
   "metadata": {},
   "outputs": [],
   "source": [
    "print(str(False))\n",
    "print(int(False))"
   ]
  },
  {
   "cell_type": "markdown",
   "metadata": {},
   "source": [
    "#### EXERCISE\n",
    "Calculate the integer year 7 years ago from today, and convert it to string and write message."
   ]
  },
  {
   "cell_type": "markdown",
   "metadata": {},
   "source": [
    "### d. string"
   ]
  },
  {
   "cell_type": "code",
   "execution_count": null,
   "metadata": {},
   "outputs": [],
   "source": [
    "course = 'Python for beginners'"
   ]
  },
  {
   "cell_type": "code",
   "execution_count": null,
   "metadata": {},
   "outputs": [],
   "source": [
    "course = \"Python for beginners\""
   ]
  },
  {
   "cell_type": "code",
   "execution_count": null,
   "metadata": {},
   "outputs": [],
   "source": [
    "course = 'Python's course for beginners'"
   ]
  },
  {
   "cell_type": "code",
   "execution_count": null,
   "metadata": {},
   "outputs": [],
   "source": [
    "course = \"Python's course for begineers\""
   ]
  },
  {
   "cell_type": "code",
   "execution_count": null,
   "metadata": {},
   "outputs": [],
   "source": [
    "course = 'Python for \"begineers\"'"
   ]
  },
  {
   "cell_type": "code",
   "execution_count": null,
   "metadata": {},
   "outputs": [],
   "source": [
    "course = '''Python's course for \"beginners\"'''"
   ]
  },
  {
   "cell_type": "code",
   "execution_count": null,
   "metadata": {},
   "outputs": [],
   "source": [
    "course = '''\n",
    "Hello Professor,\n",
    "I'm John. Can I take your course \"Python for begineers?\"\n",
    "Thank you,\n",
    "John\n",
    "'''"
   ]
  },
  {
   "cell_type": "code",
   "execution_count": null,
   "metadata": {},
   "outputs": [],
   "source": [
    "course = 'Python'\n",
    "#         012345\n",
    "#             -1\n",
    "print(course[0])"
   ]
  },
  {
   "cell_type": "code",
   "execution_count": null,
   "metadata": {},
   "outputs": [],
   "source": [
    "print(course[-1])"
   ]
  },
  {
   "cell_type": "code",
   "execution_count": null,
   "metadata": {},
   "outputs": [],
   "source": [
    "print(course[0:3])"
   ]
  },
  {
   "cell_type": "code",
   "execution_count": null,
   "metadata": {},
   "outputs": [],
   "source": [
    "print(course[:3])"
   ]
  },
  {
   "cell_type": "code",
   "execution_count": null,
   "metadata": {},
   "outputs": [],
   "source": [
    "print(course[3:])"
   ]
  },
  {
   "cell_type": "code",
   "execution_count": null,
   "metadata": {},
   "outputs": [],
   "source": [
    "print(course[-2:-1])"
   ]
  },
  {
   "cell_type": "code",
   "execution_count": null,
   "metadata": {},
   "outputs": [],
   "source": [
    "print(course[-2:])"
   ]
  },
  {
   "cell_type": "code",
   "execution_count": null,
   "metadata": {},
   "outputs": [],
   "source": [
    "print(course[:-2])"
   ]
  },
  {
   "cell_type": "markdown",
   "metadata": {},
   "source": [
    "#### EXERCISE\n",
    "name = 'Geun Ho Gu'\\\n",
    "What kind of output would you get if you type this?\n",
    "print(name[1:-1])"
   ]
  },
  {
   "cell_type": "code",
   "execution_count": null,
   "metadata": {},
   "outputs": [],
   "source": []
  },
  {
   "cell_type": "markdown",
   "metadata": {},
   "source": [
    "### e. Formatted string"
   ]
  },
  {
   "cell_type": "code",
   "execution_count": null,
   "metadata": {},
   "outputs": [],
   "source": [
    "first = 'Geun Ho'\n",
    "last = 'Gu'\n",
    "msg = first +' [' + last + '] is a coder'\n",
    "print(msg)"
   ]
  },
  {
   "cell_type": "code",
   "execution_count": null,
   "metadata": {},
   "outputs": [],
   "source": [
    "msg = f'{first} [{last}] is a coder'\n",
    "print(msg)"
   ]
  },
  {
   "cell_type": "markdown",
   "metadata": {},
   "source": [
    "#### EXERCISE\n",
    "Make an age integer variable, and use formmated stringto print the following message\n",
    "\"I'm 17 years old.\""
   ]
  },
  {
   "cell_type": "markdown",
   "metadata": {},
   "source": [
    "### f. string method"
   ]
  },
  {
   "cell_type": "code",
   "execution_count": null,
   "metadata": {},
   "outputs": [],
   "source": [
    "course = 'Python for beginners'\n",
    "print(len(course))"
   ]
  },
  {
   "cell_type": "markdown",
   "metadata": {},
   "source": [
    "Python is an object orientted programming language where every variable contains methods that can be run.\n",
    "course.\\<tab\\>"
   ]
  },
  {
   "cell_type": "code",
   "execution_count": null,
   "metadata": {},
   "outputs": [],
   "source": [
    "course."
   ]
  },
  {
   "cell_type": "code",
   "execution_count": null,
   "metadata": {},
   "outputs": [],
   "source": [
    "course.upper()"
   ]
  },
  {
   "cell_type": "code",
   "execution_count": null,
   "metadata": {},
   "outputs": [],
   "source": [
    "course.find('t')"
   ]
  },
  {
   "cell_type": "code",
   "execution_count": null,
   "metadata": {},
   "outputs": [],
   "source": [
    "course.replace('beginners','intermediates')"
   ]
  },
  {
   "cell_type": "code",
   "execution_count": null,
   "metadata": {},
   "outputs": [],
   "source": [
    "'for' in course"
   ]
  },
  {
   "cell_type": "code",
   "execution_count": null,
   "metadata": {},
   "outputs": [],
   "source": [
    "len(course)"
   ]
  },
  {
   "cell_type": "code",
   "execution_count": null,
   "metadata": {},
   "outputs": [],
   "source": [
    "course.__len__()"
   ]
  },
  {
   "cell_type": "markdown",
   "metadata": {},
   "source": [
    "### g. Arithmetic"
   ]
  },
  {
   "cell_type": "code",
   "execution_count": null,
   "metadata": {
    "colab": {
     "base_uri": "https://localhost:8080/"
    },
    "executionInfo": {
     "elapsed": 303,
     "status": "ok",
     "timestamp": 1662088328952,
     "user": {
      "displayName": "에너지공학부/구근호",
      "userId": "09292163357270917481"
     },
     "user_tz": -540
    },
    "id": "AuMT-YTbLB_a",
    "outputId": "88725db1-3b94-44ef-9b30-3ff8b9153267"
   },
   "outputs": [],
   "source": [
    "x = 5\n",
    "print(x + 5)  # 더하기"
   ]
  },
  {
   "cell_type": "code",
   "execution_count": null,
   "metadata": {},
   "outputs": [],
   "source": [
    "print(x - 3)  # 빼기"
   ]
  },
  {
   "cell_type": "code",
   "execution_count": null,
   "metadata": {},
   "outputs": [],
   "source": [
    "print(x * 9)  # 곱하기"
   ]
  },
  {
   "cell_type": "code",
   "execution_count": null,
   "metadata": {},
   "outputs": [],
   "source": [
    "print(x / 2)  # 나누기"
   ]
  },
  {
   "cell_type": "code",
   "execution_count": null,
   "metadata": {},
   "outputs": [],
   "source": [
    "print(x % 2)  # 나머지"
   ]
  },
  {
   "cell_type": "code",
   "execution_count": null,
   "metadata": {},
   "outputs": [],
   "source": [
    "print(x // 2) # 몫"
   ]
  },
  {
   "cell_type": "code",
   "execution_count": null,
   "metadata": {},
   "outputs": [],
   "source": [
    "print(x ** 3) # 지수"
   ]
  },
  {
   "cell_type": "code",
   "execution_count": null,
   "metadata": {},
   "outputs": [],
   "source": [
    "x = 3\n",
    "x = x + 2\n",
    "print(x)"
   ]
  },
  {
   "cell_type": "code",
   "execution_count": null,
   "metadata": {},
   "outputs": [],
   "source": [
    "x += 2\n",
    "print(x)"
   ]
  },
  {
   "cell_type": "code",
   "execution_count": null,
   "metadata": {},
   "outputs": [],
   "source": [
    "x //= 2\n",
    "print(x)"
   ]
  },
  {
   "cell_type": "code",
   "execution_count": null,
   "metadata": {},
   "outputs": [],
   "source": []
  },
  {
   "cell_type": "markdown",
   "metadata": {},
   "source": [
    "### Exercise\n",
    "Calculate the following\\\n",
    "$$10 + 3 \\times 2$$"
   ]
  },
  {
   "cell_type": "code",
   "execution_count": null,
   "metadata": {},
   "outputs": [],
   "source": []
  },
  {
   "cell_type": "markdown",
   "metadata": {},
   "source": [
    "$$\\sqrt[3]{2*10}$$"
   ]
  },
  {
   "cell_type": "code",
   "execution_count": null,
   "metadata": {},
   "outputs": [],
   "source": [
    "(2*10)**(1/3)"
   ]
  },
  {
   "cell_type": "markdown",
   "metadata": {
    "id": "sLC2PvqvOMw-"
   },
   "source": [
    "### Exercise\n",
    "Calculate the following\\\n",
    "$$\\sqrt[3]{2*5} + \\sqrt{5-2}$$"
   ]
  },
  {
   "cell_type": "code",
   "execution_count": null,
   "metadata": {
    "id": "5jPxzbkGOcwC"
   },
   "outputs": [],
   "source": []
  },
  {
   "cell_type": "markdown",
   "metadata": {},
   "source": [
    "## h. math functions"
   ]
  },
  {
   "cell_type": "code",
   "execution_count": null,
   "metadata": {},
   "outputs": [],
   "source": [
    "x = -2.3\n",
    "print(abs(x))"
   ]
  },
  {
   "cell_type": "code",
   "execution_count": null,
   "metadata": {},
   "outputs": [],
   "source": [
    "print(round(x))"
   ]
  },
  {
   "cell_type": "code",
   "execution_count": null,
   "metadata": {},
   "outputs": [],
   "source": [
    "import math\n",
    "math.ceil(-2.3)"
   ]
  },
  {
   "cell_type": "markdown",
   "metadata": {},
   "source": [
    "## i. if statement\n",
    "if it's a hot day\\\n",
    "    It's hot\\\n",
    "    Drink plenti of water\\\n",
    "otherwise if it's cold\\\n",
    "    It's cold\\\n",
    "    wear warm cloth\\\n",
    "otherwise\\\n",
    "    It's a nice day"
   ]
  },
  {
   "cell_type": "code",
   "execution_count": null,
   "metadata": {},
   "outputs": [],
   "source": [
    "is_hot = True\n",
    "if is_hot:\n",
    "    print(\"It's a hot day\")\n",
    "print('enjoy your day')"
   ]
  },
  {
   "cell_type": "code",
   "execution_count": null,
   "metadata": {},
   "outputs": [],
   "source": [
    "is_hot = True\n",
    "if is_hot:\n",
    "    print(\"It's a hot day\")\n",
    "    print(\"Drink plenti of water\")"
   ]
  },
  {
   "cell_type": "code",
   "execution_count": null,
   "metadata": {},
   "outputs": [],
   "source": [
    "is_hot = True\n",
    "if is_hot:\n",
    "    print(\"It's a hot day\")\n",
    "    print(\"Drink plenti of water\")\n",
    "else:\n",
    "    print(\"It's a cold day\")\n",
    "    print(\"Wear warm cloth\")"
   ]
  },
  {
   "cell_type": "code",
   "execution_count": null,
   "metadata": {},
   "outputs": [],
   "source": [
    "is_hot = False\n",
    "is_cold = True\n",
    "if is_hot:\n",
    "    print(\"It's a hot day\")\n",
    "    print(\"Drink plenti of water\")\n",
    "elif is_cold:\n",
    "    print(\"It's a cold day\")\n",
    "    print(\"Wear warm cloth\")\n",
    "else:\n",
    "    print(\"It's a nice day\")"
   ]
  },
  {
   "cell_type": "markdown",
   "metadata": {},
   "source": [
    "### Exercise\n",
    "Write a if statement, where you if you are hungry, it prints eat lunch, otherwise print brush teeth."
   ]
  },
  {
   "cell_type": "code",
   "execution_count": null,
   "metadata": {},
   "outputs": [],
   "source": []
  },
  {
   "cell_type": "code",
   "execution_count": null,
   "metadata": {},
   "outputs": [],
   "source": [
    "I_like_ice_cream = True\n",
    "I_am_hungry = True\n",
    "if I_am_hungry and I_like_ice_cream:\n",
    "    print('I eat ice cream')"
   ]
  },
  {
   "cell_type": "code",
   "execution_count": null,
   "metadata": {},
   "outputs": [],
   "source": [
    "if I_am_hungry or I_like_ice_cream: # at least one condition is true\n",
    "    print('I like eating')"
   ]
  },
  {
   "cell_type": "code",
   "execution_count": null,
   "metadata": {},
   "outputs": [],
   "source": [
    "if not I_like_ice_cream:\n",
    "    print(\"I don't like ice cream\")"
   ]
  },
  {
   "cell_type": "code",
   "execution_count": null,
   "metadata": {},
   "outputs": [],
   "source": [
    "if I_am_hungry and not I_like_ice_cream:\n",
    "    print('I want to eat but not ice cream')"
   ]
  },
  {
   "cell_type": "markdown",
   "metadata": {
    "id": "_r3kWJ1mOdvA"
   },
   "source": [
    "## j. Booleans\n",
    "A variable that represents true or false is called boolean"
   ]
  },
  {
   "cell_type": "code",
   "execution_count": null,
   "metadata": {
    "colab": {
     "base_uri": "https://localhost:8080/"
    },
    "executionInfo": {
     "elapsed": 4,
     "status": "ok",
     "timestamp": 1662089250412,
     "user": {
      "displayName": "에너지공학부/구근호",
      "userId": "09292163357270917481"
     },
     "user_tz": -540
    },
    "id": "GmGtGnvrPOVv",
    "outputId": "adea16ad-beb5-44a8-d4a1-b952b92453c2"
   },
   "outputs": [],
   "source": [
    "t = True\n",
    "f = False\n",
    "print(t,f)\n",
    "print(type(t))"
   ]
  },
  {
   "cell_type": "markdown",
   "metadata": {
    "id": "scsqOjfZPVAK"
   },
   "source": [
    "For boolean variables you can use \"and\" , \"or\", and \"not\""
   ]
  },
  {
   "cell_type": "code",
   "execution_count": null,
   "metadata": {
    "colab": {
     "base_uri": "https://localhost:8080/"
    },
    "executionInfo": {
     "elapsed": 313,
     "status": "ok",
     "timestamp": 1662089536341,
     "user": {
      "displayName": "에너지공학부/구근호",
      "userId": "09292163357270917481"
     },
     "user_tz": -540
    },
    "id": "Npez0_2EQB64",
    "outputId": "9f9a8f47-a141-4f93-803c-f3050f5c16c0"
   },
   "outputs": [],
   "source": [
    "# x and y = true if both x and y are true\n",
    "print(t and t)"
   ]
  },
  {
   "cell_type": "code",
   "execution_count": null,
   "metadata": {},
   "outputs": [],
   "source": [
    "print(t and f)"
   ]
  },
  {
   "cell_type": "code",
   "execution_count": null,
   "metadata": {},
   "outputs": [],
   "source": [
    "print(t or t)"
   ]
  },
  {
   "cell_type": "code",
   "execution_count": null,
   "metadata": {},
   "outputs": [],
   "source": [
    "print(t or f)"
   ]
  },
  {
   "cell_type": "code",
   "execution_count": null,
   "metadata": {},
   "outputs": [],
   "source": [
    "print(not t)"
   ]
  },
  {
   "cell_type": "markdown",
   "metadata": {
    "id": "WumOVOHJQb4b"
   },
   "source": [
    "#### Exercise\n",
    "What output would you get in the following case?"
   ]
  },
  {
   "cell_type": "code",
   "execution_count": null,
   "metadata": {},
   "outputs": [],
   "source": [
    "print(f or f)"
   ]
  },
  {
   "cell_type": "code",
   "execution_count": null,
   "metadata": {},
   "outputs": [],
   "source": [
    "print(f or t)"
   ]
  },
  {
   "cell_type": "code",
   "execution_count": null,
   "metadata": {},
   "outputs": [],
   "source": [
    "print(not f)"
   ]
  },
  {
   "cell_type": "markdown",
   "metadata": {
    "id": "WLhp7qnuQjAD"
   },
   "source": [
    "### Comparison"
   ]
  },
  {
   "cell_type": "code",
   "execution_count": null,
   "metadata": {
    "colab": {
     "base_uri": "https://localhost:8080/"
    },
    "executionInfo": {
     "elapsed": 298,
     "status": "ok",
     "timestamp": 1662089677528,
     "user": {
      "displayName": "에너지공학부/구근호",
      "userId": "09292163357270917481"
     },
     "user_tz": -540
    },
    "id": "8xxhNEs6QqVu",
    "outputId": "d22e7748-5c91-43f0-d6db-dba178cb74b7"
   },
   "outputs": [],
   "source": [
    " print(1 == 1) # equality"
   ]
  },
  {
   "cell_type": "code",
   "execution_count": null,
   "metadata": {},
   "outputs": [],
   "source": [
    " print(1 == 2)"
   ]
  },
  {
   "cell_type": "code",
   "execution_count": null,
   "metadata": {},
   "outputs": [],
   "source": [
    " print(1 != 1) # inequality"
   ]
  },
  {
   "cell_type": "code",
   "execution_count": null,
   "metadata": {},
   "outputs": [],
   "source": [
    " print(1 != 2)"
   ]
  },
  {
   "cell_type": "code",
   "execution_count": null,
   "metadata": {
    "colab": {
     "base_uri": "https://localhost:8080/"
    },
    "executionInfo": {
     "elapsed": 305,
     "status": "ok",
     "timestamp": 1662089701623,
     "user": {
      "displayName": "에너지공학부/구근호",
      "userId": "09292163357270917481"
     },
     "user_tz": -540
    },
    "id": "mMDCVQXtQ6K4",
    "outputId": "9e6a03d0-f52e-4758-c90d-c45acf120e85"
   },
   "outputs": [],
   "source": [
    "print( 1 < 2) # less than"
   ]
  },
  {
   "cell_type": "code",
   "execution_count": null,
   "metadata": {},
   "outputs": [],
   "source": [
    "print( 1 > 2) # greater than"
   ]
  },
  {
   "cell_type": "code",
   "execution_count": null,
   "metadata": {},
   "outputs": [],
   "source": [
    "print( 1 <= 2) # less than or equal to"
   ]
  },
  {
   "cell_type": "code",
   "execution_count": null,
   "metadata": {},
   "outputs": [],
   "source": [
    "print( 1 <= 1)"
   ]
  },
  {
   "cell_type": "code",
   "execution_count": null,
   "metadata": {},
   "outputs": [],
   "source": [
    "print( 1 >= 2)# greater than or equal to"
   ]
  },
  {
   "cell_type": "code",
   "execution_count": null,
   "metadata": {},
   "outputs": [],
   "source": [
    "Temperature = 30\n",
    "if Temperature > 23:\n",
    "    print(\"It's hot\")"
   ]
  },
  {
   "cell_type": "markdown",
   "metadata": {},
   "source": [
    "#### Exercise\n",
    "Make a if statement where, if the length of the string is less than 3, then print it's too short, if it is larger than 50, than print it's too long. otherwise print okay."
   ]
  },
  {
   "cell_type": "code",
   "execution_count": null,
   "metadata": {},
   "outputs": [],
   "source": []
  },
  {
   "cell_type": "markdown",
   "metadata": {},
   "source": [
    "## k. while loop"
   ]
  },
  {
   "cell_type": "code",
   "execution_count": null,
   "metadata": {},
   "outputs": [],
   "source": [
    "i = 1\n",
    "while i <= 5:\n",
    "    print('*'*i)\n",
    "    i = i +1\n",
    "print('done')"
   ]
  },
  {
   "cell_type": "markdown",
   "metadata": {},
   "source": [
    "#### Exercise\n",
    "Use while loop to double the number of rabbits until it is above 20."
   ]
  },
  {
   "cell_type": "code",
   "execution_count": null,
   "metadata": {},
   "outputs": [],
   "source": []
  },
  {
   "cell_type": "markdown",
   "metadata": {},
   "source": [
    "## l. Blackjack game\n",
    "\n",
    "Let's make a while loop that allow user to add card until they are busted."
   ]
  },
  {
   "cell_type": "code",
   "execution_count": null,
   "metadata": {},
   "outputs": [],
   "source": [
    "input_value = input('your input')\n",
    "print(input_value)"
   ]
  },
  {
   "cell_type": "code",
   "execution_count": null,
   "metadata": {},
   "outputs": [],
   "source": [
    "import random\n",
    "current_value = random.randrange(1,10)\n",
    "current_value += random.randrange(1,10)\n",
    "\n",
    "while True:\n",
    "    print(f\"our value is {current_value}\")\n",
    "    command = input('(hit, stop)>')\n",
    "    if command == 'stop':\n",
    "        print(f\"Your value is {current_value}\")\n",
    "        break\n",
    "    elif command == 'hit':\n",
    "        current_value += random.randrange(1,10)\n",
    "    if current_value > 21:\n",
    "        print(f\"Your value is {current_value}\")\n",
    "        print('busted!')\n",
    "        break"
   ]
  },
  {
   "cell_type": "markdown",
   "metadata": {},
   "source": [
    "## m. For loops\n"
   ]
  },
  {
   "cell_type": "code",
   "execution_count": null,
   "metadata": {},
   "outputs": [],
   "source": [
    "for item in 'python':\n",
    "    print(item)"
   ]
  },
  {
   "cell_type": "code",
   "execution_count": null,
   "metadata": {},
   "outputs": [],
   "source": [
    "for item in ['John','Sara','Alan']:\n",
    "    print(item)"
   ]
  },
  {
   "cell_type": "code",
   "execution_count": null,
   "metadata": {},
   "outputs": [],
   "source": [
    "for item in [1,2,3,4,5,6]:\n",
    "  print(item)"
   ]
  },
  {
   "cell_type": "code",
   "execution_count": null,
   "metadata": {},
   "outputs": [],
   "source": [
    "for item in range(20):\n",
    "  print(item)"
   ]
  },
  {
   "cell_type": "markdown",
   "metadata": {},
   "source": [
    "#### Execercise\n",
    "Add up all the item in the prices\\\n",
    "prices = [60,70,90]"
   ]
  },
  {
   "cell_type": "code",
   "execution_count": null,
   "metadata": {},
   "outputs": [],
   "source": []
  },
  {
   "cell_type": "markdown",
   "metadata": {},
   "source": [
    "## n. Nested Loop\n",
    "(x,y)\\\n",
    "(0,0)\\\n",
    "(0,1)\\\n",
    "(0,2)\\\n",
    "(1,0)\\\n",
    "(1,1)\\\n",
    "..."
   ]
  },
  {
   "cell_type": "code",
   "execution_count": null,
   "metadata": {},
   "outputs": [],
   "source": [
    "for x in range(4):\n",
    "    for y in range(3):\n",
    "        print(f'({x},{y})')"
   ]
  },
  {
   "cell_type": "markdown",
   "metadata": {},
   "source": [
    "#### Exercise\n",
    "given numbers = [2,3,4,1]\\\n",
    "Use the nested loop to print the following:\\\n",
    "xx\\\n",
    "xxx\\\n",
    "xxxx\\\n",
    "x"
   ]
  },
  {
   "cell_type": "code",
   "execution_count": null,
   "metadata": {},
   "outputs": [],
   "source": []
  },
  {
   "cell_type": "markdown",
   "metadata": {
    "id": "wf1ut-TZSkwI"
   },
   "source": [
    "## o. List\n",
    "List saves other variables in serial"
   ]
  },
  {
   "cell_type": "code",
   "execution_count": null,
   "metadata": {},
   "outputs": [],
   "source": [
    "names = ['John','Mary','Sara','Alan']\n",
    "print(names[0])"
   ]
  },
  {
   "cell_type": "code",
   "execution_count": null,
   "metadata": {},
   "outputs": [],
   "source": [
    "print(names[2:])"
   ]
  },
  {
   "cell_type": "code",
   "execution_count": null,
   "metadata": {},
   "outputs": [],
   "source": [
    "print(names[-2])"
   ]
  },
  {
   "cell_type": "code",
   "execution_count": null,
   "metadata": {},
   "outputs": [],
   "source": [
    "print(names[-2:])"
   ]
  },
  {
   "cell_type": "markdown",
   "metadata": {},
   "source": [
    "#### Exercise\n",
    "Write a code that find the maximum value in the list [2,3,1,5,2,9,10,2]"
   ]
  },
  {
   "cell_type": "code",
   "execution_count": null,
   "metadata": {},
   "outputs": [],
   "source": []
  },
  {
   "cell_type": "code",
   "execution_count": null,
   "metadata": {
    "colab": {
     "base_uri": "https://localhost:8080/"
    },
    "executionInfo": {
     "elapsed": 5,
     "status": "ok",
     "timestamp": 1662090280138,
     "user": {
      "displayName": "에너지공학부/구근호",
      "userId": "09292163357270917481"
     },
     "user_tz": -540
    },
    "id": "bncKNJ09TAT2",
    "outputId": "ade34110-6a80-4c47-b924-ceafe65bda8b"
   },
   "outputs": [],
   "source": [
    "list_of_whatevers = [1, 3.2, 'wow', 'okay',['list within list']]\n",
    "print(list_of_whatevers)"
   ]
  },
  {
   "cell_type": "markdown",
   "metadata": {},
   "source": [
    "### 2D Matrix"
   ]
  },
  {
   "cell_type": "code",
   "execution_count": null,
   "metadata": {},
   "outputs": [],
   "source": [
    "Matrix = [\n",
    "             [1,2,3],\n",
    "             [4,5,6],\n",
    "             [7,8,9]\n",
    "]\n",
    "print(Matrix[0][2])"
   ]
  },
  {
   "cell_type": "code",
   "execution_count": null,
   "metadata": {},
   "outputs": [],
   "source": [
    "Matrix[0][2] = 20\n",
    "print(Matrix)"
   ]
  },
  {
   "cell_type": "markdown",
   "metadata": {},
   "source": [
    "### List Methods"
   ]
  },
  {
   "cell_type": "code",
   "execution_count": null,
   "metadata": {},
   "outputs": [],
   "source": [
    "numbers = [5,2,1,3,2]\n",
    "#numbers.<tab>"
   ]
  },
  {
   "cell_type": "code",
   "execution_count": null,
   "metadata": {
    "colab": {
     "base_uri": "https://localhost:8080/"
    },
    "executionInfo": {
     "elapsed": 288,
     "status": "ok",
     "timestamp": 1662090836139,
     "user": {
      "displayName": "에너지공학부/구근호",
      "userId": "09292163357270917481"
     },
     "user_tz": -540
    },
    "id": "Q9BSSFQrTiO4",
    "outputId": "72df4370-811c-489a-c801-0e329f48be20"
   },
   "outputs": [],
   "source": [
    "numbers.append(20)\n",
    "print(numbers)"
   ]
  },
  {
   "cell_type": "code",
   "execution_count": null,
   "metadata": {},
   "outputs": [],
   "source": [
    "numbers.insert(0, 90)\n",
    "print(numbers)"
   ]
  },
  {
   "cell_type": "code",
   "execution_count": null,
   "metadata": {},
   "outputs": [],
   "source": [
    "numbers.pop()\n",
    "print(numbers)"
   ]
  },
  {
   "cell_type": "code",
   "execution_count": null,
   "metadata": {},
   "outputs": [],
   "source": [
    "print(numbers.index(1))"
   ]
  },
  {
   "cell_type": "code",
   "execution_count": null,
   "metadata": {},
   "outputs": [],
   "source": [
    "print(3 in numbers)"
   ]
  },
  {
   "cell_type": "code",
   "execution_count": null,
   "metadata": {},
   "outputs": [],
   "source": [
    "numbers.sort()\n",
    "print(numbers)"
   ]
  },
  {
   "cell_type": "code",
   "execution_count": null,
   "metadata": {},
   "outputs": [],
   "source": [
    "numbers.reverse()\n",
    "print(numbers)"
   ]
  },
  {
   "cell_type": "markdown",
   "metadata": {},
   "source": [
    "#### Exercise \n",
    "Make a program that removes repeating numbers in [2,2,4,6,3,3,6,1]. Hint: Make a new list."
   ]
  },
  {
   "cell_type": "markdown",
   "metadata": {},
   "source": [
    "## p. tuple\n",
    "Tuple is similar to list, but it cannot be modified."
   ]
  },
  {
   "cell_type": "code",
   "execution_count": null,
   "metadata": {},
   "outputs": [],
   "source": [
    "numbers = (0,1,2)\n",
    "print(numbers[0])"
   ]
  },
  {
   "cell_type": "code",
   "execution_count": null,
   "metadata": {},
   "outputs": [],
   "source": [
    "numbers[0] = 2"
   ]
  },
  {
   "cell_type": "markdown",
   "metadata": {},
   "source": [
    "### Unpacking"
   ]
  },
  {
   "cell_type": "code",
   "execution_count": null,
   "metadata": {},
   "outputs": [],
   "source": [
    "Coordinates = (2,3,1)\n",
    "x,y,z = Coordinates\n",
    "print(x,y,z)"
   ]
  },
  {
   "cell_type": "markdown",
   "metadata": {},
   "source": [
    "# Advanced For loops"
   ]
  },
  {
   "cell_type": "code",
   "execution_count": null,
   "metadata": {},
   "outputs": [],
   "source": [
    "student_names = ['Alice', 'Bob', 'Charlie']\n",
    "for name in student_names:\n",
    "    print(name)"
   ]
  },
  {
   "cell_type": "code",
   "execution_count": null,
   "metadata": {},
   "outputs": [],
   "source": [
    "student_names = ['Alice', 'Bob', 'Charlie']\n",
    "scores = [85, 90, 75]\n",
    "for name, score in zip(student_names, scores):\n",
    "    print(f\"{name}: {score}\")"
   ]
  },
  {
   "cell_type": "code",
   "execution_count": null,
   "metadata": {},
   "outputs": [],
   "source": [
    "studentnames_scores = [['Alice',85],['Bob',90],['Charlie',75]]\n",
    "for name,score in studentnames_scores:\n",
    "    print(name,score)"
   ]
  },
  {
   "cell_type": "code",
   "execution_count": null,
   "metadata": {},
   "outputs": [],
   "source": [
    "Fruits = ['Strawberry', 'Banana', 'Apple','Blueberry','Orange','Blackberry']\n",
    "prices = [23,21,26,28,20,3]\n",
    "for index,name in enumerate(Fruits):\n",
    "    if 'berry' in name:\n",
    "        prices[i] -= 2\n",
    "print(prices)"
   ]
  },
  {
   "cell_type": "code",
   "execution_count": 1,
   "metadata": {},
   "outputs": [
    {
     "name": "stdout",
     "output_type": "stream",
     "text": [
      "Student 1: Alice scored 85\n",
      "Student 2: Bob scored 90\n",
      "Student 3: Charlie scored 75\n"
     ]
    }
   ],
   "source": [
    "student_names = ['Alice', 'Bob', 'Charlie']\n",
    "scores = [85, 90, 75]\n",
    "for index, (name, score) in enumerate(zip(student_names, scores)):\n",
    "    print(f\"Student {index+1}: {name} scored {score}\")"
   ]
  },
  {
   "cell_type": "markdown",
   "metadata": {},
   "source": [
    "### exercise\n",
    "\n",
    "You have a list of students and list of scores. Write a code that find the name of student with the highest score. This problem can be approached from using either zip or enumerate."
   ]
  },
  {
   "cell_type": "markdown",
   "metadata": {},
   "source": [
    "## q. Dictionary\n",
    "name - John\\\n",
    "email - john@gmail.com\\\n",
    "age - 32\\\n",
    "Phone - 1234\\"
   ]
  },
  {
   "cell_type": "code",
   "execution_count": null,
   "metadata": {},
   "outputs": [],
   "source": [
    "Person = {\n",
    "    'name':'John',\n",
    "    'email':'john@gmail.com',\n",
    "    'age':32,\n",
    "    'age':40,\n",
    "    'Phone':1234,\n",
    "}"
   ]
  },
  {
   "cell_type": "code",
   "execution_count": null,
   "metadata": {},
   "outputs": [],
   "source": [
    "Person['name']"
   ]
  },
  {
   "cell_type": "code",
   "execution_count": null,
   "metadata": {},
   "outputs": [],
   "source": [
    "Person['Name']"
   ]
  },
  {
   "cell_type": "code",
   "execution_count": null,
   "metadata": {},
   "outputs": [],
   "source": [
    "Person['birthdate']"
   ]
  },
  {
   "cell_type": "code",
   "execution_count": null,
   "metadata": {},
   "outputs": [],
   "source": [
    "Person.get('birthdate')"
   ]
  },
  {
   "cell_type": "code",
   "execution_count": null,
   "metadata": {},
   "outputs": [],
   "source": [
    "Person.get('birthdate','Jan 01')"
   ]
  },
  {
   "cell_type": "code",
   "execution_count": null,
   "metadata": {},
   "outputs": [],
   "source": [
    "Person['birthday'] = 'Feb 14'"
   ]
  },
  {
   "cell_type": "code",
   "execution_count": null,
   "metadata": {},
   "outputs": [],
   "source": [
    "print(Person['birthday'])"
   ]
  },
  {
   "cell_type": "markdown",
   "metadata": {},
   "source": [
    "#### Exercise\n",
    "Make a dictionary that gives one, two, and three as string, with key 1, 2, and 3."
   ]
  },
  {
   "cell_type": "markdown",
   "metadata": {},
   "source": [
    "## r. functions"
   ]
  },
  {
   "cell_type": "code",
   "execution_count": null,
   "metadata": {},
   "outputs": [],
   "source": [
    "def greet_user():\n",
    "    print('Hi there!')\n",
    "    print('Welcome aboard!')\n",
    "\n",
    "print('start')\n",
    "greet_user()\n",
    "print('finish')"
   ]
  },
  {
   "cell_type": "code",
   "execution_count": null,
   "metadata": {},
   "outputs": [],
   "source": [
    "def greet_user(name):\n",
    "    print(f'Hi {name}!')\n",
    "    print('Welcome aboard!')\n",
    "\n",
    "print('start')\n",
    "greet_user('John')\n",
    "print('finish')"
   ]
  },
  {
   "cell_type": "code",
   "execution_count": null,
   "metadata": {},
   "outputs": [],
   "source": [
    "def greet_user(name):\n",
    "    print(f'Hi {name}!')\n",
    "    print('Welcome aboard!')\n",
    "\n",
    "print('start')\n",
    "greet_user('John')\n",
    "greet_user('Mary')\n",
    "print('finish')"
   ]
  },
  {
   "cell_type": "code",
   "execution_count": null,
   "metadata": {},
   "outputs": [],
   "source": [
    "def greet_user(first_name,last_name):\n",
    "    print(f'Hi {first_name} {last_name}!')\n",
    "    print('Welcome aboard!')\n",
    "\n",
    "print('start')\n",
    "greet_user('John','Smith') # positional argument\n",
    "greet_user('Mary','Scott')\n",
    "print('finish')"
   ]
  },
  {
   "cell_type": "code",
   "execution_count": null,
   "metadata": {},
   "outputs": [],
   "source": [
    "def greet_user(first_name,last_name):\n",
    "    print(f'Hi {first_name} {last_name}!')\n",
    "    print('Welcome aboard!')\n",
    "\n",
    "print('start')\n",
    "greet_user('John')\n",
    "print('finish')"
   ]
  },
  {
   "cell_type": "code",
   "execution_count": null,
   "metadata": {},
   "outputs": [],
   "source": [
    "def greet_user(first_name,last_name):\n",
    "    print(f'Hi {first_name} {last_name}!')\n",
    "    print('Welcome aboard!')\n",
    "\n",
    "print('start')\n",
    "greet_user(last_name='Smith',first_name='John')\n",
    "print('finish')"
   ]
  },
  {
   "cell_type": "code",
   "execution_count": null,
   "metadata": {},
   "outputs": [],
   "source": [
    "def square(number):\n",
    "    return number* number # return\n",
    "\n",
    "result = square(5)\n",
    "print(result)"
   ]
  },
  {
   "cell_type": "code",
   "execution_count": null,
   "metadata": {},
   "outputs": [],
   "source": [
    "def greet_user(first_name,last_name):\n",
    "    print(f'Hi {first_name} {last_name}!')\n",
    "    print('Welcome aboard!')\n",
    "    return None"
   ]
  },
  {
   "cell_type": "code",
   "execution_count": null,
   "metadata": {},
   "outputs": [],
   "source": [
    "def square(number):\n",
    "  return number, number*number\n",
    "\n",
    "squared_number = square(2)\n",
    "print(squared_number)"
   ]
  },
  {
   "cell_type": "markdown",
   "metadata": {},
   "source": [
    "#### Exercise\n",
    "Make a function that takes in two integers and returns the multiplied value"
   ]
  },
  {
   "cell_type": "code",
   "execution_count": null,
   "metadata": {},
   "outputs": [],
   "source": []
  },
  {
   "cell_type": "markdown",
   "metadata": {},
   "source": [
    "## s. class\n",
    "Class is used to define a new variable with its custom methods."
   ]
  },
  {
   "cell_type": "code",
   "execution_count": null,
   "metadata": {},
   "outputs": [],
   "source": [
    "numbers = [1,2,3,4,5]\n",
    "numbers.append\n",
    "numbers.insert\n",
    "numbers.pop\n",
    "numbers.index\n",
    "numbers.sort\n",
    "numbers.reverse"
   ]
  },
  {
   "cell_type": "code",
   "execution_count": null,
   "metadata": {},
   "outputs": [],
   "source": [
    "class zoo:\n",
    "    def cow(self):\n",
    "        print('moo')\n",
    "    def cat(self):\n",
    "        print('meow')\n",
    "\n",
    "Zoo1 = zoo()\n",
    "Zoo1.number_of_cats = 10\n",
    "Zoo1.cat()\n",
    "Zoo2 = zoo()\n",
    "Zoo2.number_of_cows = 3\n",
    "Zoo2.cow()\n"
   ]
  },
  {
   "cell_type": "markdown",
   "metadata": {},
   "source": [
    "### Consturctor"
   ]
  },
  {
   "cell_type": "code",
   "execution_count": null,
   "metadata": {},
   "outputs": [],
   "source": [
    "class zoo:\n",
    "    def __init__(self,number_of_cows,number_of_cats):\n",
    "        self.number_of_cows = number_of_cows\n",
    "        self.number_of_cats = number_of_cats\n",
    "    def cow(self):\n",
    "        print('moo')\n",
    "    def cat(self):\n",
    "        print('meow')\n",
    "\n",
    "SeoulZoo = zoo(10,5)\n",
    "print(SeoulZoo.number_of_cows)"
   ]
  },
  {
   "cell_type": "code",
   "execution_count": null,
   "metadata": {},
   "outputs": [],
   "source": [
    "class Person:\n",
    "    def __init__(self,name):\n",
    "        self.name = name\n",
    "    def talk(self):\n",
    "        print(f'Hi! My name is {self.name}.')\n",
    "\n",
    "john = Person('John Smith')\n",
    "john.talk()\n",
    "\n",
    "john = Person('Bob')\n",
    "john.talk()"
   ]
  },
  {
   "cell_type": "markdown",
   "metadata": {},
   "source": [
    "### Inheritance"
   ]
  },
  {
   "cell_type": "code",
   "execution_count": null,
   "metadata": {},
   "outputs": [],
   "source": [
    "class Mammal:\n",
    "    def walk(self):\n",
    "        print('walk')\n",
    "\n",
    "class Dog(Mammal):\n",
    "    pass\n",
    "\n",
    "class Cat(Mammal):\n",
    "    pass\n",
    "\n",
    "dog1 = Dog()\n",
    "dog1.walk()"
   ]
  },
  {
   "cell_type": "code",
   "execution_count": null,
   "metadata": {},
   "outputs": [],
   "source": [
    "class Mammal:\n",
    "    def walk(self):\n",
    "        print('walk')\n",
    "\n",
    "class Dog(Mammal):\n",
    "    def bark(self):\n",
    "        print('bark')\n",
    "\n",
    "class Cat(Mammal):\n",
    "    def meow(self):\n",
    "        print('meow')\n",
    "\n",
    "dog1 = Dog()\n",
    "dog1.walk()\n",
    "dog1.bark()\n",
    "\n",
    "cat1 = Cat()\n",
    "cat1.walk()\n",
    "cat1.meow()"
   ]
  },
  {
   "cell_type": "code",
   "execution_count": null,
   "metadata": {},
   "outputs": [],
   "source": [
    "cat1.bark()"
   ]
  },
  {
   "cell_type": "markdown",
   "metadata": {},
   "source": [
    "#### Exercise\n",
    "Make a Pasture class where the number of cow is defined by __init__, and define a function that add a cow, and another function that prints the number of cow."
   ]
  },
  {
   "cell_type": "markdown",
   "metadata": {},
   "source": [
    "## t. module\n"
   ]
  },
  {
   "cell_type": "code",
   "execution_count": null,
   "metadata": {},
   "outputs": [],
   "source": [
    "from converter import kg_to_lbs\n",
    "print(kg_to_lbs(65))"
   ]
  },
  {
   "cell_type": "markdown",
   "metadata": {
    "id": "1C3xla4nhVPh"
   },
   "source": [
    "## u. Numpy"
   ]
  },
  {
   "cell_type": "code",
   "execution_count": 3,
   "metadata": {
    "executionInfo": {
     "elapsed": 346,
     "status": "ok",
     "timestamp": 1662094145942,
     "user": {
      "displayName": "에너지공학부/구근호",
      "userId": "09292163357270917481"
     },
     "user_tz": -540
    },
    "id": "CHCC11x1hu40"
   },
   "outputs": [],
   "source": [
    "import numpy as np"
   ]
  },
  {
   "cell_type": "code",
   "execution_count": null,
   "metadata": {
    "colab": {
     "base_uri": "https://localhost:8080/"
    },
    "executionInfo": {
     "elapsed": 3,
     "status": "ok",
     "timestamp": 1662094147306,
     "user": {
      "displayName": "에너지공학부/구근호",
      "userId": "09292163357270917481"
     },
     "user_tz": -540
    },
    "id": "05t6MsKHh8Ie",
    "outputId": "6c750f93-1c7a-4630-801f-e11b5ea04c25"
   },
   "outputs": [],
   "source": [
    "x = np.array([[1,2,3],[4,5,6])\n",
    "print(type(x))\n",
    "print(x)"
   ]
  },
  {
   "cell_type": "code",
   "execution_count": null,
   "metadata": {},
   "outputs": [],
   "source": [
    "print(x.ndim)"
   ]
  },
  {
   "cell_type": "code",
   "execution_count": null,
   "metadata": {},
   "outputs": [],
   "source": [
    "print(x.shape)"
   ]
  },
  {
   "cell_type": "code",
   "execution_count": null,
   "metadata": {},
   "outputs": [],
   "source": [
    "print(x.size)"
   ]
  },
  {
   "cell_type": "code",
   "execution_count": null,
   "metadata": {},
   "outputs": [],
   "source": [
    "print(x.dtype)"
   ]
  },
  {
   "cell_type": "code",
   "execution_count": null,
   "metadata": {},
   "outputs": [],
   "source": [
    "print(x[0])"
   ]
  },
  {
   "cell_type": "code",
   "execution_count": null,
   "metadata": {
    "colab": {
     "base_uri": "https://localhost:8080/"
    },
    "executionInfo": {
     "elapsed": 292,
     "status": "ok",
     "timestamp": 1662094208562,
     "user": {
      "displayName": "에너지공학부/구근호",
      "userId": "09292163357270917481"
     },
     "user_tz": -540
    },
    "id": "viWvQGWuiKu2",
    "outputId": "319d5bd4-14dd-431c-cfab-f2aa2887dbb8"
   },
   "outputs": [],
   "source": [
    "print(x[0,0],x[0,1],x[1,2])"
   ]
  },
  {
   "cell_type": "code",
   "execution_count": null,
   "metadata": {},
   "outputs": [],
   "source": [
    "print(x[0][0])"
   ]
  },
  {
   "cell_type": "code",
   "execution_count": null,
   "metadata": {},
   "outputs": [],
   "source": [
    "print(x[0,:])\n",
    "print(x[:,1])"
   ]
  },
  {
   "cell_type": "code",
   "execution_count": null,
   "metadata": {},
   "outputs": [],
   "source": [
    "print(x[1:2,:])"
   ]
  },
  {
   "cell_type": "markdown",
   "metadata": {},
   "source": [
    "### Exercise"
   ]
  },
  {
   "cell_type": "code",
   "execution_count": null,
   "metadata": {},
   "outputs": [],
   "source": [
    "wow = np.array([\n",
    "    [1, 2, 3],\n",
    "    [4, 5, 6],\n",
    "    [7, 8, 9],\n",
    "    [10, 11, 12],\n",
    "])"
   ]
  },
  {
   "cell_type": "markdown",
   "metadata": {},
   "source": [
    "What is the ndim? shape? size? dtype?"
   ]
  },
  {
   "cell_type": "markdown",
   "metadata": {},
   "source": [
    "### 스페셜 메트릭스"
   ]
  },
  {
   "cell_type": "code",
   "execution_count": null,
   "metadata": {},
   "outputs": [],
   "source": [
    "a = np.zeros((2,2))  # Create an array of all zeros\n",
    "print(a)"
   ]
  },
  {
   "cell_type": "code",
   "execution_count": null,
   "metadata": {},
   "outputs": [],
   "source": [
    "b = np.ones((1,2))   # Create an array of all ones\n",
    "print(b)"
   ]
  },
  {
   "cell_type": "code",
   "execution_count": null,
   "metadata": {},
   "outputs": [],
   "source": [
    "d = np.eye(2)        # Create a 2x2 identity matrix\n",
    "print(d)"
   ]
  },
  {
   "cell_type": "code",
   "execution_count": null,
   "metadata": {},
   "outputs": [],
   "source": [
    "np.arange(10,30,5)"
   ]
  },
  {
   "cell_type": "code",
   "execution_count": null,
   "metadata": {},
   "outputs": [],
   "source": [
    "np.linspace(0,10,25)"
   ]
  },
  {
   "cell_type": "markdown",
   "metadata": {},
   "source": [
    "# basic operation"
   ]
  },
  {
   "cell_type": "code",
   "execution_count": 52,
   "metadata": {},
   "outputs": [
    {
     "data": {
      "text/plain": [
       "array([ 0.        ,  4.20735492,  4.54648713,  0.70560004, -3.78401248])"
      ]
     },
     "execution_count": 52,
     "metadata": {},
     "output_type": "execute_result"
    }
   ],
   "source": [
    "a = np.array([0,1,2,3,4])\n",
    "5*np.sin(a)"
   ]
  },
  {
   "cell_type": "code",
   "execution_count": null,
   "metadata": {},
   "outputs": [],
   "source": [
    "np.exp(a)"
   ]
  },
  {
   "cell_type": "code",
   "execution_count": null,
   "metadata": {},
   "outputs": [],
   "source": [
    "np.sqrt(a)"
   ]
  },
  {
   "cell_type": "code",
   "execution_count": null,
   "metadata": {},
   "outputs": [],
   "source": [
    "a**2"
   ]
  },
  {
   "cell_type": "code",
   "execution_count": 54,
   "metadata": {},
   "outputs": [
    {
     "data": {
      "text/plain": [
       "array([0., 2., 2., 3.])"
      ]
     },
     "execution_count": 54,
     "metadata": {},
     "output_type": "execute_result"
    }
   ],
   "source": [
    "a = np.array([0.1,2.3,2.9,3.2])\n",
    "np.floor(a)"
   ]
  },
  {
   "cell_type": "code",
   "execution_count": 55,
   "metadata": {},
   "outputs": [
    {
     "data": {
      "text/plain": [
       "array([1., 3., 3., 4.])"
      ]
     },
     "execution_count": 55,
     "metadata": {},
     "output_type": "execute_result"
    }
   ],
   "source": [
    "np.ceil(a)"
   ]
  },
  {
   "cell_type": "code",
   "execution_count": null,
   "metadata": {},
   "outputs": [],
   "source": [
    "np.round(a)"
   ]
  },
  {
   "cell_type": "code",
   "execution_count": 4,
   "metadata": {},
   "outputs": [
    {
     "data": {
      "text/plain": [
       "array([[2, 0],\n",
       "       [0, 4]])"
      ]
     },
     "execution_count": 4,
     "metadata": {},
     "output_type": "execute_result"
    }
   ],
   "source": [
    "A = np.array([[1, 1],\n",
    "              [0, 1]])\n",
    "B = np.array([[2, 0],\n",
    "              [3, 4]])\n",
    "A+B"
   ]
  },
  {
   "cell_type": "code",
   "execution_count": 48,
   "metadata": {},
   "outputs": [
    {
     "data": {
      "text/plain": [
       "array([[ 4,  0],\n",
       "       [ 0, 16]])"
      ]
     },
     "execution_count": 48,
     "metadata": {},
     "output_type": "execute_result"
    }
   ],
   "source": [
    "A*B"
   ]
  },
  {
   "cell_type": "code",
   "execution_count": null,
   "metadata": {},
   "outputs": [],
   "source": [
    "A @ B"
   ]
  },
  {
   "cell_type": "code",
   "execution_count": null,
   "metadata": {},
   "outputs": [],
   "source": [
    "A.dot(B)"
   ]
  },
  {
   "cell_type": "code",
   "execution_count": 5,
   "metadata": {},
   "outputs": [],
   "source": [
    "A *= B"
   ]
  },
  {
   "cell_type": "markdown",
   "metadata": {},
   "source": [
    "$$\n",
    "\\begin{bmatrix}\n",
    "1 & 2 & 3 \\\\\n",
    "4 & 5 & 6 \\\\\n",
    "\\end{bmatrix}\n",
    "\\odot\n",
    "\\begin{bmatrix}\n",
    "2 & 3 & 4 \\\\\n",
    "5 & 6 & 7 \\\\\n",
    "\\end{bmatrix}\n",
    "$$"
   ]
  },
  {
   "cell_type": "markdown",
   "metadata": {},
   "source": [
    "$$\\odot$$ indicates elemental wise multiplicatoin"
   ]
  },
  {
   "cell_type": "markdown",
   "metadata": {},
   "source": [
    "$$\n",
    "\\begin{bmatrix}\n",
    "1 & 2 & 3 \\\\\n",
    "4 & 5 & 6 \\\\\n",
    "\\end{bmatrix}\n",
    "\\cdot\n",
    "\\begin{bmatrix}\n",
    "2 & 3 \\\\\n",
    "4 & 5 \\\\\n",
    "6 & 7 \\\\\n",
    "\\end{bmatrix}\n",
    "$$"
   ]
  },
  {
   "cell_type": "markdown",
   "metadata": {},
   "source": [
    "### Random"
   ]
  },
  {
   "cell_type": "code",
   "execution_count": 50,
   "metadata": {},
   "outputs": [
    {
     "name": "stdout",
     "output_type": "stream",
     "text": [
      "[[0.76111497 0.25233259 0.49513185 0.91831541 0.59507995]\n",
      " [0.88771207 0.46962829 0.02317103 0.40110592 0.1189016 ]\n",
      " [0.61827283 0.39555364 0.3124598  0.02800395 0.73059427]]\n"
     ]
    }
   ],
   "source": [
    "a = np.random.random((3,5))\n",
    "print(a)"
   ]
  },
  {
   "cell_type": "markdown",
   "metadata": {},
   "source": [
    "### exercise\n",
    "Make a 5,3 matrix with a integer value between 0 and 5"
   ]
  },
  {
   "cell_type": "code",
   "execution_count": null,
   "metadata": {},
   "outputs": [],
   "source": [
    "a.sum()"
   ]
  },
  {
   "cell_type": "code",
   "execution_count": null,
   "metadata": {},
   "outputs": [],
   "source": [
    "a.sum(axis=0)"
   ]
  },
  {
   "cell_type": "code",
   "execution_count": null,
   "metadata": {},
   "outputs": [],
   "source": [
    "a.mean()"
   ]
  },
  {
   "cell_type": "code",
   "execution_count": null,
   "metadata": {},
   "outputs": [],
   "source": [
    "a.mean(axis=1)"
   ]
  },
  {
   "cell_type": "code",
   "execution_count": null,
   "metadata": {},
   "outputs": [],
   "source": [
    "a.min()"
   ]
  },
  {
   "cell_type": "code",
   "execution_count": null,
   "metadata": {},
   "outputs": [],
   "source": [
    "a.std()"
   ]
  },
  {
   "cell_type": "markdown",
   "metadata": {},
   "source": [
    "Make a student score using\n",
    "```\n",
    "np.round(np.random.random((10))*100)\n",
    "```\n",
    "calculate the mean, min, max, and standard deviatoin"
   ]
  },
  {
   "cell_type": "markdown",
   "metadata": {},
   "source": [
    "### Changing shape"
   ]
  },
  {
   "cell_type": "markdown",
   "metadata": {},
   "source": [
    "You have scores of students for subejct that looks like this:\n",
    "```\n",
    "student_scores = np.array([[80, 75, 90],\n",
    "                           [85, 90, 88],\n",
    "                           [70, 65, 78]])\n",
    "```\n",
    "with a shape of (3,3) where the first dimension corresponds to students and the second dimension corresponds to subjects\n",
    "\n",
    "add a dimension between the first and the second to present semester."
   ]
  },
  {
   "cell_type": "code",
   "execution_count": 57,
   "metadata": {},
   "outputs": [],
   "source": [
    "a = np.array([[3., 7., 3., 4.],\n",
    "       [1., 4., 2., 2.],\n",
    "       [7., 2., 4., 9.]])"
   ]
  },
  {
   "cell_type": "code",
   "execution_count": null,
   "metadata": {},
   "outputs": [],
   "source": [
    "a.ravel()"
   ]
  },
  {
   "cell_type": "code",
   "execution_count": null,
   "metadata": {},
   "outputs": [],
   "source": [
    "a.reshape(6,2)"
   ]
  },
  {
   "cell_type": "code",
   "execution_count": 47,
   "metadata": {},
   "outputs": [
    {
     "data": {
      "text/plain": [
       "(5, 5, 1)"
      ]
     },
     "execution_count": 47,
     "metadata": {},
     "output_type": "execute_result"
    }
   ],
   "source": [
    "a[:,:,None].shape"
   ]
  },
  {
   "cell_type": "code",
   "execution_count": 58,
   "metadata": {},
   "outputs": [
    {
     "data": {
      "text/plain": [
       "(3, 1, 4)"
      ]
     },
     "execution_count": 58,
     "metadata": {},
     "output_type": "execute_result"
    }
   ],
   "source": [
    "a[:,None,:].shape"
   ]
  },
  {
   "cell_type": "code",
   "execution_count": null,
   "metadata": {},
   "outputs": [],
   "source": [
    "a.T"
   ]
  },
  {
   "cell_type": "code",
   "execution_count": 16,
   "metadata": {},
   "outputs": [
    {
     "name": "stdout",
     "output_type": "stream",
     "text": [
      "[[4. 3.]\n",
      " [3. 8.]]\n"
     ]
    }
   ],
   "source": [
    "a = np.floor(10*np.random.random((2,2)))\n",
    "print(a)"
   ]
  },
  {
   "cell_type": "code",
   "execution_count": 17,
   "metadata": {},
   "outputs": [
    {
     "name": "stdout",
     "output_type": "stream",
     "text": [
      "[[5. 7.]\n",
      " [6. 4.]]\n"
     ]
    }
   ],
   "source": [
    "b = np.floor(10*np.random.random((2,2)))\n",
    "print(b)"
   ]
  },
  {
   "cell_type": "code",
   "execution_count": 19,
   "metadata": {},
   "outputs": [
    {
     "name": "stdout",
     "output_type": "stream",
     "text": [
      "[[4. 3.]\n",
      " [3. 8.]\n",
      " [5. 7.]\n",
      " [6. 4.]]\n",
      "(4, 2)\n"
     ]
    }
   ],
   "source": [
    "c = np.concatenate((a,b),axis=0)\n",
    "print(c)\n",
    "print(c.shape)"
   ]
  },
  {
   "cell_type": "markdown",
   "metadata": {},
   "source": [
    "### execercise\n",
    "There are 24 students which is represented by index\n",
    "```\n",
    "students = np.arange(1,25)\n",
    "```\n",
    "Use reshape to make a seatting arrangement in 6 rows and 4 columns.])"
   ]
  },
  {
   "cell_type": "markdown",
   "metadata": {},
   "source": [
    "### Broadcasting"
   ]
  },
  {
   "cell_type": "code",
   "execution_count": null,
   "metadata": {
    "colab": {
     "base_uri": "https://localhost:8080/"
    },
    "executionInfo": {
     "elapsed": 298,
     "status": "ok",
     "timestamp": 1662094419986,
     "user": {
      "displayName": "에너지공학부/구근호",
      "userId": "09292163357270917481"
     },
     "user_tz": -540
    },
    "id": "SdxAY1kejAIy",
    "outputId": "7a996c21-2f4c-4cf0-fe95-968f0d1b982a"
   },
   "outputs": [],
   "source": [
    "a = np.random.random((5,5))\n",
    "print(a)\n",
    "a[:,0] = 1\n",
    "print(a)"
   ]
  },
  {
   "cell_type": "code",
   "execution_count": null,
   "metadata": {},
   "outputs": [],
   "source": [
    "a = np.random.random((5,5))\n",
    "print(a)\n",
    "a[1,:] = 1\n",
    "print(a)"
   ]
  },
  {
   "cell_type": "code",
   "execution_count": null,
   "metadata": {},
   "outputs": [],
   "source": [
    "a = np.zeros((5,5))\n",
    "print(a)\n",
    "a += 1\n",
    "print(a)"
   ]
  },
  {
   "cell_type": "markdown",
   "metadata": {},
   "source": [
    "For the students scores below,\n",
    "```\n",
    "student_scores = np.array([[80, 75, 90],\n",
    "                           [85, 90, 88],\n",
    "                           [70, 65, 78]])\n",
    "```\n",
    "where each row indicates a student, each column indicates a subject, use broadcast to add 5 point, 3 points, and 1 points for the subjects respectively."
   ]
  },
  {
   "cell_type": "code",
   "execution_count": 23,
   "metadata": {},
   "outputs": [
    {
     "name": "stdout",
     "output_type": "stream",
     "text": [
      "[[6. 9. 6.]\n",
      " [5. 1. 9.]\n",
      " [6. 3. 8.]]\n",
      "[5. 6. 6.]\n",
      "[[30. 54. 36.]\n",
      " [25.  6. 54.]\n",
      " [30. 18. 48.]]\n"
     ]
    }
   ],
   "source": [
    "a = np.floor(10*np.random.random((3,3)))\n",
    "print(a)\n",
    "b = np.floor(10*np.random.random((3,)))\n",
    "print(b)\n",
    "print(a*b)"
   ]
  },
  {
   "cell_type": "code",
   "execution_count": 24,
   "metadata": {},
   "outputs": [
    {
     "name": "stdout",
     "output_type": "stream",
     "text": [
      "[[2. 3.]\n",
      " [0. 4.]\n",
      " [0. 4.]]\n",
      "[5. 9. 7.]\n"
     ]
    },
    {
     "ename": "ValueError",
     "evalue": "operands could not be broadcast together with shapes (3,2) (3,) ",
     "output_type": "error",
     "traceback": [
      "\u001b[1;31m---------------------------------------------------------------------------\u001b[0m",
      "\u001b[1;31mValueError\u001b[0m                                Traceback (most recent call last)",
      "Cell \u001b[1;32mIn[24], line 5\u001b[0m\n\u001b[0;32m      3\u001b[0m b \u001b[38;5;241m=\u001b[39m np\u001b[38;5;241m.\u001b[39mfloor(\u001b[38;5;241m10\u001b[39m\u001b[38;5;241m*\u001b[39mnp\u001b[38;5;241m.\u001b[39mrandom\u001b[38;5;241m.\u001b[39mrandom((\u001b[38;5;241m3\u001b[39m,)))\n\u001b[0;32m      4\u001b[0m \u001b[38;5;28mprint\u001b[39m(b)\n\u001b[1;32m----> 5\u001b[0m \u001b[38;5;28mprint\u001b[39m(\u001b[43ma\u001b[49m\u001b[38;5;241;43m*\u001b[39;49m\u001b[43mb\u001b[49m)\n",
      "\u001b[1;31mValueError\u001b[0m: operands could not be broadcast together with shapes (3,2) (3,) "
     ]
    }
   ],
   "source": [
    "a = np.floor(10*np.random.random((3,2)))\n",
    "print(a)\n",
    "b = np.floor(10*np.random.random((3,)))\n",
    "print(b)\n",
    "print(a*b)"
   ]
  },
  {
   "cell_type": "code",
   "execution_count": 26,
   "metadata": {},
   "outputs": [
    {
     "name": "stdout",
     "output_type": "stream",
     "text": [
      "[0. 0. 4.]\n",
      "[[0.]\n",
      " [1.]\n",
      " [0.]]\n",
      "[[0. 0. 0.]\n",
      " [0. 0. 4.]\n",
      " [0. 0. 0.]]\n"
     ]
    }
   ],
   "source": [
    "a = np.floor(10*np.random.random((3,)))\n",
    "print(a)\n",
    "b = np.floor(10*np.random.random((3,1)))\n",
    "print(b)\n",
    "print(a*b)"
   ]
  },
  {
   "cell_type": "code",
   "execution_count": null,
   "metadata": {},
   "outputs": [],
   "source": [
    "a = np.floor(10*np.random.random((3,)))\n",
    "print(a)\n",
    "b = np.floor(10*np.random.random((3,)))\n",
    "print(b)\n",
    "print(a*b[:,None])"
   ]
  },
  {
   "cell_type": "markdown",
   "metadata": {},
   "source": [
    "For the students scores below,\n",
    "```\n",
    "student_scores = np.array([[80, 75, 90],\n",
    "                           [85, 90, 88],\n",
    "                           [70, 65, 78]])\n",
    "```\n",
    "where each row indicates a student, each column indicates a subject, use broadcast to add 5 point, 3 points, and 1 points for the subjects respectively."
   ]
  },
  {
   "cell_type": "markdown",
   "metadata": {},
   "source": [
    "# Advanced Indexing"
   ]
  },
  {
   "cell_type": "code",
   "execution_count": 32,
   "metadata": {},
   "outputs": [
    {
     "name": "stdout",
     "output_type": "stream",
     "text": [
      "[5. 7. 3. 2. 9. 5. 1. 7. 2. 6.]\n"
     ]
    }
   ],
   "source": [
    "a = np.floor(10*np.random.random((10,)))\n",
    "print(a)"
   ]
  },
  {
   "cell_type": "code",
   "execution_count": 34,
   "metadata": {},
   "outputs": [
    {
     "name": "stdout",
     "output_type": "stream",
     "text": [
      "[2. 3. 9. 5. 1. 7.]\n"
     ]
    }
   ],
   "source": [
    "I = np.array([3,2,4,5,6,7])\n",
    "print(a[I])"
   ]
  },
  {
   "cell_type": "code",
   "execution_count": 62,
   "metadata": {},
   "outputs": [
    {
     "name": "stdout",
     "output_type": "stream",
     "text": [
      "[[2. 5. 0. 4. 8. 6. 3. 3. 3. 6.]\n",
      " [9. 0. 6. 8. 3. 9. 9. 0. 4. 6.]\n",
      " [7. 6. 6. 3. 3. 9. 7. 4. 5. 9.]\n",
      " [0. 6. 8. 6. 3. 8. 3. 2. 9. 9.]\n",
      " [6. 6. 0. 1. 1. 2. 6. 0. 5. 4.]\n",
      " [9. 3. 1. 0. 3. 4. 2. 2. 3. 2.]\n",
      " [1. 4. 8. 3. 6. 9. 8. 5. 5. 2.]\n",
      " [3. 4. 7. 7. 0. 7. 1. 2. 7. 2.]\n",
      " [7. 1. 4. 1. 2. 7. 0. 6. 2. 1.]\n",
      " [5. 5. 7. 7. 6. 3. 9. 0. 2. 8.]]\n"
     ]
    }
   ],
   "source": [
    "a = np.floor(10*np.random.random((10,10)))\n",
    "print(a)"
   ]
  },
  {
   "cell_type": "code",
   "execution_count": 36,
   "metadata": {},
   "outputs": [
    {
     "name": "stdout",
     "output_type": "stream",
     "text": [
      "[[9. 4. 6. 1. 4. 7. 2. 4. 3. 7.]\n",
      " [3. 6. 8. 9. 1. 5. 4. 0. 5. 2.]\n",
      " [0. 2. 1. 9. 9. 0. 4. 6. 6. 5.]]\n"
     ]
    }
   ],
   "source": [
    "I1 = np.array([1,2,3])\n",
    "print(a[I1,:])"
   ]
  },
  {
   "cell_type": "code",
   "execution_count": 65,
   "metadata": {},
   "outputs": [
    {
     "name": "stdout",
     "output_type": "stream",
     "text": [
      "[[9. 8.]\n",
      " [7. 3.]\n",
      " [0. 6.]]\n",
      "[[9. 8.]\n",
      " [7. 3.]\n",
      " [0. 6.]]\n"
     ]
    }
   ],
   "source": [
    "I1 = np.array([1,2,3])\n",
    "I2 = np.array([0,3])\n",
    "b = a[I1,:]\n",
    "c = b[:,I2]\n",
    "print(c)\n",
    "print(a[I1,:][:,I2])"
   ]
  },
  {
   "cell_type": "code",
   "execution_count": 66,
   "metadata": {},
   "outputs": [
    {
     "name": "stdout",
     "output_type": "stream",
     "text": [
      "[[0. 6. 8. 6. 3. 8. 3. 2. 9. 9.]\n",
      " [7. 6. 6. 3. 3. 9. 7. 4. 5. 9.]\n",
      " [0. 6. 8. 6. 3. 8. 3. 2. 9. 9.]]\n"
     ]
    }
   ],
   "source": [
    "I1 = np.array([3,2,0])\n",
    "print(a[I1,:])"
   ]
  },
  {
   "cell_type": "code",
   "execution_count": 67,
   "metadata": {},
   "outputs": [
    {
     "name": "stdout",
     "output_type": "stream",
     "text": [
      "[[0. 6. 8. 6. 3. 8. 3. 2. 9. 9.]\n",
      " [7. 6. 6. 3. 3. 9. 7. 4. 5. 9.]\n",
      " [0. 6. 8. 6. 3. 8. 3. 2. 9. 9.]]\n"
     ]
    }
   ],
   "source": [
    "I1 = np.array([3,2,3])\n",
    "print(a[I1,:])"
   ]
  },
  {
   "cell_type": "markdown",
   "metadata": {},
   "source": [
    "```\n",
    "test_scores = np.array([[75, 82, 90],\n",
    "                        [85, 88, 92],\n",
    "                        [70, 78, 85],\n",
    "                        [65, 75, 80],\n",
    "                        [90, 92, 95]])\n",
    "student_indices = np.array([0, 2, 4])\n",
    "subject_preferences = np.array([1, 2, 0])\n",
    "```\n",
    "From the scores, get the scores of students defined by the student_indices, and also change the order of the subject as shown in subject_preferences"
   ]
  },
  {
   "cell_type": "markdown",
   "metadata": {},
   "source": [
    "### 매트릭스 Boolean "
   ]
  },
  {
   "cell_type": "code",
   "execution_count": 40,
   "metadata": {},
   "outputs": [
    {
     "name": "stdout",
     "output_type": "stream",
     "text": [
      "[3. 6. 5.]\n"
     ]
    }
   ],
   "source": [
    "a = np.floor(10*np.random.random((3,)))\n",
    "print(a)"
   ]
  },
  {
   "cell_type": "code",
   "execution_count": 41,
   "metadata": {},
   "outputs": [
    {
     "name": "stdout",
     "output_type": "stream",
     "text": [
      "[3.]\n"
     ]
    }
   ],
   "source": [
    "print(a[[True,False,False]])"
   ]
  },
  {
   "cell_type": "code",
   "execution_count": 42,
   "metadata": {},
   "outputs": [
    {
     "name": "stdout",
     "output_type": "stream",
     "text": [
      "[6. 5.]\n"
     ]
    }
   ],
   "source": [
    "print(a[[False,True,True]])"
   ]
  },
  {
   "cell_type": "code",
   "execution_count": 44,
   "metadata": {
    "colab": {
     "base_uri": "https://localhost:8080/"
    },
    "executionInfo": {
     "elapsed": 314,
     "status": "ok",
     "timestamp": 1662094370053,
     "user": {
      "displayName": "에너지공학부/구근호",
      "userId": "09292163357270917481"
     },
     "user_tz": -540
    },
    "id": "30SyiCB9i06N",
    "outputId": "7bddb9e1-586b-4b61-871d-6abe3fdb763e"
   },
   "outputs": [
    {
     "name": "stdout",
     "output_type": "stream",
     "text": [
      "[[0.36748521 0.25188332 0.05031127 0.05029036 0.87660766]\n",
      " [0.96105404 0.55162472 0.78918591 0.41505752 0.34819872]\n",
      " [0.82786144 0.3515979  0.15933675 0.07706469 0.47966761]\n",
      " [0.52982846 0.83655498 0.66648308 0.45912198 0.1663629 ]\n",
      " [0.19609891 0.43512324 0.14155436 0.00498601 0.76943508]]\n"
     ]
    }
   ],
   "source": [
    "a = np.random.random((5,5))\n",
    "print(a)"
   ]
  },
  {
   "cell_type": "code",
   "execution_count": 45,
   "metadata": {},
   "outputs": [
    {
     "name": "stdout",
     "output_type": "stream",
     "text": [
      "[[False False False False  True]\n",
      " [ True  True  True False False]\n",
      " [ True False False False False]\n",
      " [ True  True  True False False]\n",
      " [False False False False  True]]\n"
     ]
    }
   ],
   "source": [
    "I = a>0.5\n",
    "print(I)"
   ]
  },
  {
   "cell_type": "code",
   "execution_count": 46,
   "metadata": {
    "colab": {
     "base_uri": "https://localhost:8080/"
    },
    "executionInfo": {
     "elapsed": 4,
     "status": "ok",
     "timestamp": 1662094392850,
     "user": {
      "displayName": "에너지공학부/구근호",
      "userId": "09292163357270917481"
     },
     "user_tz": -540
    },
    "id": "nzELFLzii5QY",
    "outputId": "68956d35-1316-494b-c033-efbcc8680298"
   },
   "outputs": [
    {
     "name": "stdout",
     "output_type": "stream",
     "text": [
      "[0.87660766 0.96105404 0.55162472 0.78918591 0.82786144 0.52982846\n",
      " 0.83655498 0.66648308 0.76943508]\n"
     ]
    }
   ],
   "source": [
    "I = a>0.5\n",
    "print(a[I]) # boolean indexing"
   ]
  },
  {
   "cell_type": "markdown",
   "metadata": {},
   "source": [
    "Find the name of the students with scores above 80.\n",
    "```\n",
    "students = np.array([\"Alice\", \"Bob\", \"Charlie\", \"David\", \"Emma\"])\n",
    "test_scores = np.array([75, 82, 90, 65, 88])\n",
    "```"
   ]
  },
  {
   "cell_type": "markdown",
   "metadata": {
    "id": "SCYxgtmvlW3L"
   },
   "source": [
    "## v. Matplotlib\n",
    "그림을 그릴 수 있다."
   ]
  },
  {
   "cell_type": "code",
   "execution_count": null,
   "metadata": {
    "colab": {
     "base_uri": "https://localhost:8080/",
     "height": 265
    },
    "executionInfo": {
     "elapsed": 872,
     "status": "ok",
     "timestamp": 1662095054815,
     "user": {
      "displayName": "에너지공학부/구근호",
      "userId": "09292163357270917481"
     },
     "user_tz": -540
    },
    "id": "tc6jeqE6la64",
    "outputId": "f284359d-6560-4e71-b552-34b41523a29c"
   },
   "outputs": [],
   "source": [
    "import matplotlib.pyplot as plt\n",
    "x = np.arange(0,3*np.pi,0.1)\n",
    "y = np.sin(x)\n",
    "\n",
    "plt.plot(x, y)\n",
    "plt.show()"
   ]
  },
  {
   "cell_type": "code",
   "execution_count": null,
   "metadata": {},
   "outputs": [],
   "source": [
    "plt.scatter(x,y)\n",
    "plt.show()"
   ]
  },
  {
   "cell_type": "code",
   "execution_count": null,
   "metadata": {
    "colab": {
     "base_uri": "https://localhost:8080/",
     "height": 295
    },
    "executionInfo": {
     "elapsed": 780,
     "status": "ok",
     "timestamp": 1662095075273,
     "user": {
      "displayName": "에너지공학부/구근호",
      "userId": "09292163357270917481"
     },
     "user_tz": -540
    },
    "id": "T7uKQkxzlfnR",
    "outputId": "aca32f88-e977-41e3-8bd3-abdb5b64d039"
   },
   "outputs": [],
   "source": [
    "y_sin = np.sin(x)\n",
    "y_cos = np.cos(x)\n",
    "\n",
    "plt.plot(x, y_sin)\n",
    "plt.plot(x, y_cos)"
   ]
  },
  {
   "cell_type": "code",
   "execution_count": null,
   "metadata": {},
   "outputs": [],
   "source": [
    "plt.plot(x, y_sin)\n",
    "plt.plot(x, y_cos)\n",
    "plt.xlabel('x')\n",
    "plt.ylabel('f(x)')\n",
    "plt.title('Sine and Cosine')\n",
    "plt.legend(['Sine', 'Cosine'])\n",
    "plt.axis('tight')\n",
    "plt.show()"
   ]
  },
  {
   "cell_type": "markdown",
   "metadata": {},
   "source": [
    "## Pandas를 사용한 CSV 파일 읽기\n",
    "Pandas 패키지를 이용해서 csv 파일을 불러 올 수 있다."
   ]
  },
  {
   "cell_type": "code",
   "execution_count": null,
   "metadata": {},
   "outputs": [],
   "source": [
    "import urllib.request\n",
    "urllib.request.urlretrieve(\"https://github.com/GuGroup/NNTutorial-2024-02-11-Winter-camp/raw/main/2PythonTutorial/data.csv\", \"data.csv\")"
   ]
  },
  {
   "cell_type": "code",
   "execution_count": null,
   "metadata": {},
   "outputs": [],
   "source": [
    "import pandas as pd\n",
    "df = pd.read_csv('data.csv')\n",
    "df.head()"
   ]
  },
  {
   "cell_type": "code",
   "execution_count": null,
   "metadata": {},
   "outputs": [],
   "source": [
    "data = df.to_numpy()\n",
    "print(data.shape)\n",
    "print(data)\n"
   ]
  }
 ],
 "metadata": {
  "colab": {
   "authorship_tag": "ABX9TyPRX/AenfGdvHhQFHFCWs/V",
   "provenance": []
  },
  "kernelspec": {
   "display_name": "Python 3 (ipykernel)",
   "language": "python",
   "name": "python3"
  },
  "language_info": {
   "codemirror_mode": {
    "name": "ipython",
    "version": 3
   },
   "file_extension": ".py",
   "mimetype": "text/x-python",
   "name": "python",
   "nbconvert_exporter": "python",
   "pygments_lexer": "ipython3",
   "version": "3.11.6"
  }
 },
 "nbformat": 4,
 "nbformat_minor": 4
}
