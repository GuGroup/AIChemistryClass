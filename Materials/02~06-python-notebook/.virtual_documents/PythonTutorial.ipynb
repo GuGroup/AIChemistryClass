





name = 'Titanic'
age = 1997
price = 3.9 
Available = False # Uppercase True or False











birth_year = '1996'
Age = 2024 - birth_year
print(Age)





birth_year = '1996'
print(type(birth_year))


birth_year = int(birth_year)
print(type(birth_year))


Age = 2024 - birth_year
print(Age)


message = 'his age is ' + str(Age)
print(message)


print(str(True))
print(int(True))


print(str(False))
print(int(False))








course = 'Python for beginners'


course = "Python for beginners"


course = 'Python's course for beginners'


course = "Python's course for begineers"


course = 'Python for "begineers"'


course = '''Python's course for "beginners"'''


course = '''
Hello Professor,
I'm John. Can I take your course "Python for begineers?"
Thank you,
John
'''


course = 'Python'
#         012345
#             -1
print(course[0])


print(course[-1])


print(course[0:3])


print(course[:3])


print(course[3:])


print(course[-2:-1])


print(course[-2:])


print(course[:-2])











first = 'Geun Ho'
last = 'Gu'
msg = first +' [' + last + '] is a coder'
print(msg)


msg = f'{first} [{last}] is a coder'
print(msg)








course = 'Python for beginners'
print(len(course))





course.


course.upper()


course.find('t')


course.replace('beginners','intermediates')


'for' in course


len(course)


course.__len__()





x = 5
print(x + 5)  # 더하기


print(x - 3)  # 빼기


print(x * 9)  # 곱하기


print(x / 2)  # 나누기


print(x % 2)  # 나머지


print(x // 2) # 몫


print(x ** 3) # 지수


x = 3
x = x + 2
print(x)


x += 2
print(x)


x //= 2
print(x)














(2*10)**(1/3)











x = -2.3
print(abs(x))


print(round(x))


import math
math.ceil(-2.3)





is_hot = True
if is_hot:
    print("It's a hot day")
print('enjoy your day')


is_hot = True
if is_hot:
    print("It's a hot day")
    print("Drink plenti of water")


is_hot = True
if is_hot:
    print("It's a hot day")
    print("Drink plenti of water")
else:
    print("It's a cold day")
    print("Wear warm cloth")


is_hot = False
is_cold = True
if is_hot:
    print("It's a hot day")
    print("Drink plenti of water")
elif is_cold:
    print("It's a cold day")
    print("Wear warm cloth")
else:
    print("It's a nice day")








I_like_ice_cream = True
I_am_hungry = True
if I_am_hungry and I_like_ice_cream:
    print('I eat ice cream')


if I_am_hungry or I_like_ice_cream: # at least one condition is true
    print('I like eating')


if not I_like_ice_cream:
    print("I don't like ice cream")


if I_am_hungry and not I_like_ice_cream:
    print('I want to eat but not ice cream')





t = True
f = False
print(t,f)
print(type(t))





# x and y = true if both x and y are true
print(t and t)


print(t and f)


print(t or t)


print(t or f)


print(not t)





print(f or f)


print(f or t)


print(not f)





 print(1 == 1) # equality


 print(1 == 2)


 print(1 != 1) # inequality


 print(1 != 2)


print( 1 < 2) # less than


print( 1 > 2) # greater than


print( 1 <= 2) # less than or equal to


print( 1 <= 1)


print( 1 >= 2)# greater than or equal to


Temperature = 30
if Temperature > 23:
    print("It's hot")











i = 1
while i <= 5:
    print('*'*i)
    i = i +1
print('done')











input_value = input('your input')
print(input_value)


import random
current_value = random.randrange(1,10)
current_value += random.randrange(1,10)

while True:
    print(f"our value is {current_value}")
    command = input('(hit, stop)>')
    if command == 'stop':
        print(f"Your value is {current_value}")
        break
    elif command == 'hit':
        current_value += random.randrange(1,10)
    if current_value > 21:
        print(f"Your value is {current_value}")
        print('busted!')
        break





for item in 'python':
    print(item)


for item in ['John','Sara','Alan']:
    print(item)


for item in [1,2,3,4,5,6]:
  print(item)


for item in range(20):
  print(item)











for x in range(4):
    for y in range(3):
        print(f'({x},{y})')











names = ['John','Mary','Sara','Alan']
print(names[0])


print(names[2:])


print(names[-2])


print(names[-2:])








list_of_whatevers = [1, 3.2, 'wow', 'okay',['list within list']]
print(list_of_whatevers)





Matrix = [
             [1,2,3],
             [4,5,6],
             [7,8,9]
]
print(Matrix[0][2])


Matrix[0][2] = 20
print(Matrix)





numbers = [5,2,1,3,2]
#numbers.<tab>


numbers.append(20)
print(numbers)


numbers.insert(0, 90)
print(numbers)


numbers.pop()
print(numbers)


print(numbers.index(1))


print(3 in numbers)


numbers.sort()
print(numbers)


numbers.reverse()
print(numbers)








numbers = (0,1,2)
print(numbers[0])


numbers[0] = 2





Coordinates = (2,3,1)
x,y,z = Coordinates
print(x,y,z)





student_names = ['Alice', 'Bob', 'Charlie']
for name in student_names:
    print(name)


student_names = ['Alice', 'Bob', 'Charlie']
scores = [85, 90, 75]
for name, score in zip(student_names, scores):
    print(f"{name}: {score}")


studentnames_scores = [['Alice',85],['Bob',90],['Charlie',75]]
for name,score in studentnames_scores:
    print(name,score)


Fruits = ['Strawberry', 'Banana', 'Apple','Blueberry','Orange','Blackberry']
prices = [23,21,26,28,20,3]
for index,name in enumerate(Fruits):
    if 'berry' in name:
        prices[i] -= 2
print(prices)


student_names = ['Alice', 'Bob', 'Charlie']
scores = [85, 90, 75]
for index, (name, score) in enumerate(zip(student_names, scores)):
    print(f"Student {index+1}: {name} scored {score}")








Person = {
    'name':'John',
    'email':'john@gmail.com',
    'age':32,
    'age':40,
    'Phone':1234,
}


Person['name']


Person['Name']


Person['birthdate']


Person.get('birthdate')


Person.get('birthdate','Jan 01')


Person['birthday'] = 'Feb 14'


print(Person['birthday'])








def greet_user():
    print('Hi there!')
    print('Welcome aboard!')

print('start')
greet_user()
print('finish')


def greet_user(name):
    print(f'Hi {name}!')
    print('Welcome aboard!')

print('start')
greet_user('John')
print('finish')


def greet_user(name):
    print(f'Hi {name}!')
    print('Welcome aboard!')

print('start')
greet_user('John')
greet_user('Mary')
print('finish')


def greet_user(first_name,last_name):
    print(f'Hi {first_name} {last_name}!')
    print('Welcome aboard!')

print('start')
greet_user('John','Smith') # positional argument
greet_user('Mary','Scott')
print('finish')


def greet_user(first_name,last_name):
    print(f'Hi {first_name} {last_name}!')
    print('Welcome aboard!')

print('start')
greet_user('John')
print('finish')


def greet_user(first_name,last_name):
    print(f'Hi {first_name} {last_name}!')
    print('Welcome aboard!')

print('start')
greet_user(last_name='Smith',first_name='John')
print('finish')


def square(number):
    return number* number # return

result = square(5)
print(result)


def greet_user(first_name,last_name):
    print(f'Hi {first_name} {last_name}!')
    print('Welcome aboard!')
    return None


def square(number):
  return number, number*number

squared_number = square(2)
print(squared_number)











numbers = [1,2,3,4,5]
numbers.append
numbers.insert
numbers.pop
numbers.index
numbers.sort
numbers.reverse


class zoo:
    def cow(self):
        print('moo')
    def cat(self):
        print('meow')

Zoo1 = zoo()
Zoo1.number_of_cats = 10
Zoo1.cat()
Zoo2 = zoo()
Zoo2.number_of_cows = 3
Zoo2.cow()






class zoo:
    def __init__(self,number_of_cows,number_of_cats):
        self.number_of_cows = number_of_cows
        self.number_of_cats = number_of_cats
    def cow(self):
        print('moo')
    def cat(self):
        print('meow')

SeoulZoo = zoo(10,5)
print(SeoulZoo.number_of_cows)


class Person:
    def __init__(self,name):
        self.name = name
    def talk(self):
        print(f'Hi! My name is {self.name}.')

john = Person('John Smith')
john.talk()

john = Person('Bob')
john.talk()





class Mammal:
    def walk(self):
        print('walk')

class Dog(Mammal):
    pass

class Cat(Mammal):
    pass

dog1 = Dog()
dog1.walk()


class Mammal:
    def walk(self):
        print('walk')

class Dog(Mammal):
    def bark(self):
        print('bark')

class Cat(Mammal):
    def meow(self):
        print('meow')

dog1 = Dog()
dog1.walk()
dog1.bark()

cat1 = Cat()
cat1.walk()
cat1.meow()


cat1.bark()








from converter import kg_to_lbs
print(kg_to_lbs(65))





import numpy as np


x = np.array([[1,2,3],[4,5,6])
print(type(x))
print(x)


print(x.ndim)


print(x.shape)


print(x.size)


print(x.dtype)


print(x[0])


print(x[0,0],x[0,1],x[1,2])


print(x[0][0])


print(x[0,:])
print(x[:,1])


print(x[1:2,:])





wow = np.array([
    [1, 2, 3],
    [4, 5, 6],
    [7, 8, 9],
    [10, 11, 12],
])








a = np.zeros((2,2))  # Create an array of all zeros
print(a)


b = np.ones((1,2))   # Create an array of all ones
print(b)


d = np.eye(2)        # Create a 2x2 identity matrix
print(d)


np.arange(10,30,5)


np.linspace(0,10,25)





a = np.array([0,1,2,3,4])
5*np.sin(a)


np.exp(a)


np.sqrt(a)


a**2


a = np.array([0.1,2.3,2.9,3.2])
np.floor(a)


np.ceil(a)


np.round(a)


A = np.array([[1, 1],
              [0, 1]])
B = np.array([[2, 0],
              [3, 4]])
A+B


A*B


A @ B


A.dot(B)


A *= B














a = np.random.random((3,5))
print(a)





a.sum()


a.sum(axis=0)


a.mean()


a.mean(axis=1)


a.min()


a.std()











a = np.array([[3., 7., 3., 4.],
       [1., 4., 2., 2.],
       [7., 2., 4., 9.]])


a.ravel()


a.reshape(6,2)


a[:,:,None].shape


a[:,None,:].shape


a.T


a = np.floor(10*np.random.random((2,2)))
print(a)


b = np.floor(10*np.random.random((2,2)))
print(b)


c = np.concatenate((a,b),axis=0)
print(c)
print(c.shape)








a = np.random.random((5,5))
print(a)
a[:,0] = 1
print(a)


a = np.random.random((5,5))
print(a)
a[1,:] = 1
print(a)


a = np.zeros((5,5))
print(a)
a += 1
print(a)





a = np.floor(10*np.random.random((3,3)))
print(a)
b = np.floor(10*np.random.random((3,)))
print(b)
print(a*b)


a = np.floor(10*np.random.random((3,2)))
print(a)
b = np.floor(10*np.random.random((3,)))
print(b)
print(a*b)


a = np.floor(10*np.random.random((3,)))
print(a)
b = np.floor(10*np.random.random((3,1)))
print(b)
print(a*b)


a = np.floor(10*np.random.random((3,)))
print(a)
b = np.floor(10*np.random.random((3,)))
print(b)
print(a*b[:,None])








a = np.floor(10*np.random.random((10,)))
print(a)


I = np.array([3,2,4,5,6,7])
print(a[I])


a = np.floor(10*np.random.random((10,10)))
print(a)


I1 = np.array([1,2,3])
print(a[I1,:])


I1 = np.array([1,2,3])
I2 = np.array([0,3])
b = a[I1,:]
c = b[:,I2]
print(c)
print(a[I1,:][:,I2])


I1 = np.array([3,2,0])
print(a[I1,:])


I1 = np.array([3,2,3])
print(a[I1,:])








a = np.floor(10*np.random.random((3,)))
print(a)


print(a[[True,False,False]])


print(a[[False,True,True]])


a = np.random.random((5,5))
print(a)


I = a>0.5
print(I)


I = a>0.5
print(a[I]) # boolean indexing








import matplotlib.pyplot as plt
x = np.arange(0,3*np.pi,0.1)
y = np.sin(x)

plt.plot(x, y)
plt.show()


plt.scatter(x,y)
plt.show()


y_sin = np.sin(x)
y_cos = np.cos(x)

plt.plot(x, y_sin)
plt.plot(x, y_cos)


plt.plot(x, y_sin)
plt.plot(x, y_cos)
plt.xlabel('x')
plt.ylabel('f(x)')
plt.title('Sine and Cosine')
plt.legend(['Sine', 'Cosine'])
plt.axis('tight')
plt.show()








import urllib.request
urllib.request.urlretrieve("https://github.com/GuGroup/NNTutorial-2024-02-11-Winter-camp/raw/main/2PythonTutorial/data.csv", "data.csv")


import pandas as pd
df = pd.read_csv('data.csv')
df.head()


data = df.to_numpy()
print(data.shape)
print(data)

