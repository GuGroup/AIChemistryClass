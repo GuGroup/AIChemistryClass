import torch
import torch.nn as nn
import torch.nn.functional as F
# adaopted from
# https://github.com/Zeleni9/pytorch-wgan/blob/master/models/wgan_gradient_penalty.py
class Generator(torch.nn.Module):
    def __init__(self):
        super().__init__()
        self.main_module = nn.Sequential(
            # Z latent vector 128
            nn.Linear(128,128),
            nn.ReLU(),
            nn.Linear(128,118),
            nn.Softmax(dim=1)
        )
    def forward(self, x):
        return  self.main_module(x)


device = 'cuda' if torch.cuda.is_available() else 'cpu'
#build model
G = Generator().to(device)


import torch.optim as optim

## Training
Doptimizer = optim.Adam(D.parameters(),lr=0.001,weight_decay= 0) # 0 means no penalty
Goptimizer = optim.Adam(G.parameters(),lr=0.001,weight_decay= 0) # 0 means no penalty


G.load_state_dict(torch.load('GW.pth.tar'))
G.eval()
z = torch.randn(64, 128)
# move input to cuda
if next(G.parameters()).is_cuda:
  z = z.to(device='cuda')
with torch.no_grad(): # it does not compute the gradient. so it's faster
  fake_xs = G(z)

import numpy as np
chemical_symbols = [
    # 0
    'X',
    # 1
    'H', 'He',
    # 2
    'Li', 'Be', 'B', 'C', 'N', 'O', 'F', 'Ne',
    # 3
    'Na', 'Mg', 'Al', 'Si', 'P', 'S', 'Cl', 'Ar',
    # 4
    'K', 'Ca', 'Sc', 'Ti', 'V', 'Cr', 'Mn', 'Fe', 'Co', 'Ni', 'Cu', 'Zn',
    'Ga', 'Ge', 'As', 'Se', 'Br', 'Kr',
    # 5
    'Rb', 'Sr', 'Y', 'Zr', 'Nb', 'Mo', 'Tc', 'Ru', 'Rh', 'Pd', 'Ag', 'Cd',
    'In', 'Sn', 'Sb', 'Te', 'I', 'Xe',
    # 6
    'Cs', 'Ba', 'La', 'Ce', 'Pr', 'Nd', 'Pm', 'Sm', 'Eu', 'Gd', 'Tb', 'Dy',
    'Ho', 'Er', 'Tm', 'Yb', 'Lu',
    'Hf', 'Ta', 'W', 'Re', 'Os', 'Ir', 'Pt', 'Au', 'Hg', 'Tl', 'Pb', 'Bi',
    'Po', 'At', 'Rn',
    # 7
    'Fr', 'Ra', 'Ac', 'Th', 'Pa', 'U', 'Np', 'Pu', 'Am', 'Cm', 'Bk',
    'Cf', 'Es', 'Fm', 'Md', 'No', 'Lr',
    'Rf', 'Db', 'Sg', 'Bh', 'Hs', 'Mt', 'Ds', 'Rg', 'Cn', 'Nh', 'Fl', 'Mc',
    'Lv', 'Ts', 'Og']
xs = np.array(fake_xs.tolist())
xs[xs <0.05] = 0
for j in range(xs.shape[0]):
  nonzero = np.where(xs[j,:])[0]
  s = ''
  for i in nonzero:
    s += chemical_symbols[i-1] + '%.2f'%xs[j,i] +' '
  print(s)






