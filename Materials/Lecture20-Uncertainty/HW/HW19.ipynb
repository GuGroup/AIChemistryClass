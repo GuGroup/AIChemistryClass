{
 "cells": [
  {
   "cell_type": "markdown",
   "metadata": {
    "id": "1ACwXgb5bvmL"
   },
   "source": [
    "# Data Loading\n",
    "We will use the data set from \"Chem. Sci., 2018, 9, 5152-5159.\" This data set has a features that correlates with the CO binding energy, and we will reproduce their work with Gaussian process."
   ]
  },
  {
   "cell_type": "code",
   "execution_count": 1,
   "metadata": {},
   "outputs": [
    {
     "data": {
      "text/html": [
       "<div>\n",
       "<style scoped>\n",
       "    .dataframe tbody tr th:only-of-type {\n",
       "        vertical-align: middle;\n",
       "    }\n",
       "\n",
       "    .dataframe tbody tr th {\n",
       "        vertical-align: top;\n",
       "    }\n",
       "\n",
       "    .dataframe thead th {\n",
       "        text-align: right;\n",
       "    }\n",
       "</style>\n",
       "<table border=\"1\" class=\"dataframe\">\n",
       "  <thead>\n",
       "    <tr style=\"text-align: right;\">\n",
       "      <th></th>\n",
       "      <th>Material</th>\n",
       "      <th>Xm</th>\n",
       "      <th>Xp</th>\n",
       "      <th>WLMTO_d</th>\n",
       "      <th>Wcal_d</th>\n",
       "      <th>d_c</th>\n",
       "      <th>COBE</th>\n",
       "    </tr>\n",
       "  </thead>\n",
       "  <tbody>\n",
       "    <tr>\n",
       "      <th>0</th>\n",
       "      <td>Ag3Ag@Ag</td>\n",
       "      <td>4.44</td>\n",
       "      <td>1.93</td>\n",
       "      <td>31.37</td>\n",
       "      <td>1.10</td>\n",
       "      <td>-3.92</td>\n",
       "      <td>-0.09</td>\n",
       "    </tr>\n",
       "    <tr>\n",
       "      <th>1</th>\n",
       "      <td>Ag3Au@Ag</td>\n",
       "      <td>4.74</td>\n",
       "      <td>2.07</td>\n",
       "      <td>31.19</td>\n",
       "      <td>1.13</td>\n",
       "      <td>-3.86</td>\n",
       "      <td>-0.11</td>\n",
       "    </tr>\n",
       "    <tr>\n",
       "      <th>2</th>\n",
       "      <td>Ag3Co@Ag</td>\n",
       "      <td>4.40</td>\n",
       "      <td>1.92</td>\n",
       "      <td>30.56</td>\n",
       "      <td>1.19</td>\n",
       "      <td>-3.90</td>\n",
       "      <td>-0.11</td>\n",
       "    </tr>\n",
       "    <tr>\n",
       "      <th>3</th>\n",
       "      <td>Ag3Cr@Ag</td>\n",
       "      <td>4.25</td>\n",
       "      <td>1.86</td>\n",
       "      <td>30.58</td>\n",
       "      <td>1.13</td>\n",
       "      <td>-4.03</td>\n",
       "      <td>-0.12</td>\n",
       "    </tr>\n",
       "    <tr>\n",
       "      <th>4</th>\n",
       "      <td>Ag3Cu@Ag</td>\n",
       "      <td>4.45</td>\n",
       "      <td>1.92</td>\n",
       "      <td>31.43</td>\n",
       "      <td>1.16</td>\n",
       "      <td>-3.99</td>\n",
       "      <td>-0.08</td>\n",
       "    </tr>\n",
       "  </tbody>\n",
       "</table>\n",
       "</div>"
      ],
      "text/plain": [
       "   Material    Xm    Xp  WLMTO_d  Wcal_d   d_c  COBE\n",
       "0  Ag3Ag@Ag  4.44  1.93    31.37    1.10 -3.92 -0.09\n",
       "1  Ag3Au@Ag  4.74  2.07    31.19    1.13 -3.86 -0.11\n",
       "2  Ag3Co@Ag  4.40  1.92    30.56    1.19 -3.90 -0.11\n",
       "3  Ag3Cr@Ag  4.25  1.86    30.58    1.13 -4.03 -0.12\n",
       "4  Ag3Cu@Ag  4.45  1.92    31.43    1.16 -3.99 -0.08"
      ]
     },
     "execution_count": 1,
     "metadata": {},
     "output_type": "execute_result"
    }
   ],
   "source": [
    "import pandas as pd\n",
    "df = pd.read_csv('HW19_data.csv')\n",
    "df.head()"
   ]
  },
  {
   "cell_type": "markdown",
   "metadata": {},
   "source": [
    "x and y can be separated from the data as shown below. The optimal binding energy for the CO2 reduction reaction is -0.67 eV. So here we set it as well."
   ]
  },
  {
   "cell_type": "code",
   "execution_count": 2,
   "metadata": {},
   "outputs": [],
   "source": [
    "data = df.iloc[:,1:].to_numpy()\n",
    "x = data[:,:5]\n",
    "y = data[:,5]\n",
    "y_optimum = -0.67"
   ]
  },
  {
   "cell_type": "markdown",
   "metadata": {},
   "source": [
    "# Model Loading\n",
    "Below shows the model loading. We are setting some hyperparameter for kernel, but it will be optimized together so it does not matter what value we set the hyperparameters for."
   ]
  },
  {
   "cell_type": "code",
   "execution_count": null,
   "metadata": {},
   "outputs": [],
   "source": [
    "def warn(*args, **kwargs):\n",
    "    pass\n",
    "import warnings\n",
    "warnings.warn = warn\n",
    "from sklearn.gaussian_process import GaussianProcessRegressor\n",
    "from sklearn.gaussian_process.kernels import RBF\n",
    "# set up model\n",
    "kernel = 1.0 * RBF(length_scale=0.5)\n",
    "gpr = GaussianProcessRegressor(kernel=kernel, random_state=0)"
   ]
  },
  {
   "cell_type": "markdown",
   "metadata": {},
   "source": [
    "# Homework (a)\n",
    "Use the random.sample function to randomly select the index of the first data base consisting of 3 data points. Fill inthe blank. Look up the function arguments of the random.sample."
   ]
  },
  {
   "cell_type": "code",
   "execution_count": null,
   "metadata": {
    "colab": {
     "base_uri": "https://localhost:8080/"
    },
    "executionInfo": {
     "elapsed": 276,
     "status": "ok",
     "timestamp": 1666163315491,
     "user": {
      "displayName": "에너지공학부/구근호",
      "userId": "09292163357270917481"
     },
     "user_tz": -540
    },
    "id": "lBzKg7wa9dBg",
    "outputId": "bbffd921-8f0b-42c4-c13a-ad7f2754a716"
   },
   "outputs": [],
   "source": [
    "import numpy as np\n",
    "import random\n",
    "# our initial data sampling\n",
    "####################### Fill in here ########################\n",
    "train_idx = random.sample(####Fill in here####)\n",
    "####################### Fill in here ########################\n",
    "x_train = x[train_idx,:]\n",
    "y_train = y[train_idx]"
   ]
  },
  {
   "cell_type": "code",
   "execution_count": null,
   "metadata": {},
   "outputs": [],
   "source": [
    "# fit\n",
    "gpr.fit(x_train,y_train)"
   ]
  },
  {
   "cell_type": "markdown",
   "metadata": {},
   "source": [
    "# Homework (b)\n",
    "Write function to get the test set that is the data points that are not in the training set. "
   ]
  },
  {
   "cell_type": "code",
   "execution_count": null,
   "metadata": {},
   "outputs": [],
   "source": [
    "def get_test_set(x,y,train_idx):\n",
    "    ####################### Fill in here ########################\n",
    "    \n",
    "    x_test = \n",
    "    \n",
    "    y_test = \n",
    "    ####################### Fill in here ########################\n",
    "    return x_test,y_test\n",
    "\n",
    "x_test,y_test = get_test_set(x,y,train_idx)"
   ]
  },
  {
   "cell_type": "markdown",
   "metadata": {},
   "source": [
    "Below is the code that calculates the mean of the standard deviation of the test points. As you can see, the model is not quite confident about its prediction. We will use the exploration mode to improve its confidence."
   ]
  },
  {
   "cell_type": "code",
   "execution_count": null,
   "metadata": {},
   "outputs": [],
   "source": [
    "y_test, y_test_std = gpr.predict(x_test,return_std=True)\n",
    "print(np.mean(y_test_std))"
   ]
  },
  {
   "cell_type": "markdown",
   "metadata": {
    "id": "kXG92PKGBGfA"
   },
   "source": [
    "# Homework (c) exploration\n",
    "The following function below find the data point with the highest uncertainty, and add it to the training set.\n",
    "Write a one line of code for finding the index of the data point with the highest uncertainty."
   ]
  },
  {
   "cell_type": "code",
   "execution_count": null,
   "metadata": {
    "executionInfo": {
     "elapsed": 2,
     "status": "ok",
     "timestamp": 1666163116121,
     "user": {
      "displayName": "에너지공학부/구근호",
      "userId": "09292163357270917481"
     },
     "user_tz": -540
    },
    "id": "mwYEkVsqBEqi"
   },
   "outputs": [],
   "source": [
    "def addpoint_exploration(gpr,x,y,train_idx):\n",
    "    x_test,y_test = get_test_set(x,y,train_idx)\n",
    "    y_test, y_test_std = gpr.predict(x_test, return_std=True)\n",
    "    ####################### Fill in here ########################\n",
    "    train_idx_new = \n",
    "    ####################### Fill in here ########################\n",
    "    train_idx.append(train_idx_new)\n",
    "\n",
    "    x_train,y_train = x[train_idx,:], y[train_idx]\n",
    "    gpr.fit(x_train,y_train)\n",
    "    \n",
    "    x_test,y_test = get_test_set(x,y,train_idx)\n",
    "    y_test_, y_test_std = gpr.predict(x_test, return_std=True)\n",
    "    print('The number of data point is %d'%len(train_idx),'The mean of standard deviation is %.3f.'%np.mean(y_test_std),'Mean Absolute error is %.3f.'%np.mean(np.abs(y_test-y_test_)))\n",
    "\n",
    "for _ in range(5):\n",
    "  addpoint_exploration(gpr,x,y,train_idx)"
   ]
  },
  {
   "cell_type": "markdown",
   "metadata": {},
   "source": [
    "# Homework (d) exploitation\n",
    "The following function below find the data point with the y value closest to the optimum, and add it to the training set.\n",
    "Write a one line of code for finding the index of the data point with the highest uncertainty. In order to find the best point, we will calculate whether the output is closest to the prediction with the lowest uncertainty:\n",
    "$$\n",
    "\\arg \\max_{i\\in\\chi} \\left | y_{opt} - y_{i}  \\right | + \\sigma_{i}\n",
    "$$\n",
    "\n",
    "Implement this equation and find i, and set it as train_idx_new"
   ]
  },
  {
   "cell_type": "code",
   "execution_count": null,
   "metadata": {},
   "outputs": [],
   "source": [
    "def addpoint_exploitation(gpr,x,y,train_idx):\n",
    "    x_test,y_test = get_test_set(x,y,train_idx)\n",
    "    y_test, y_test_std = gpr.predict(x_test, return_std=True)\n",
    "    ####################### Fill in here ########################\n",
    "\n",
    "    train_idx_new = \n",
    "    ####################### Fill in here ########################\n",
    "    train_idx.append(train_idx_new)\n",
    "\n",
    "    x_train,y_train = x[train_idx,:], y[train_idx]\n",
    "    best_idx = np.argmin(np.abs(y_train - y_optimum))\n",
    "    print(\"The optimal data point's value is \",y_train[best_idx])\n",
    "\n",
    "for _ in range(5):\n",
    "  addpoint_exploitation(gpr,x,y,train_idx)"
   ]
  }
 ],
 "metadata": {
  "accelerator": "GPU",
  "colab": {
   "authorship_tag": "ABX9TyO+vINPTt6+3sFHUdDzUD7A",
   "collapsed_sections": [],
   "provenance": []
  },
  "gpuClass": "standard",
  "kernelspec": {
   "display_name": "Python 3 (ipykernel)",
   "language": "python",
   "name": "python3"
  },
  "language_info": {
   "codemirror_mode": {
    "name": "ipython",
    "version": 3
   },
   "file_extension": ".py",
   "mimetype": "text/x-python",
   "name": "python",
   "nbconvert_exporter": "python",
   "pygments_lexer": "ipython3",
   "version": "3.11.6"
  }
 },
 "nbformat": 4,
 "nbformat_minor": 4
}
