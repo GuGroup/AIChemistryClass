{
 "cells": [
  {
   "cell_type": "markdown",
   "metadata": {
    "id": "1ACwXgb5bvmL"
   },
   "source": [
    "# Data Loading\n",
    "We will use the data set from \"Chem. Sci., 2018, 9, 5152-5159.\" This data set has a features that correlates with the CO binding energy, and we will reproduce their work with Gaussian process."
   ]
  },
  {
   "cell_type": "code",
   "execution_count": 29,
   "metadata": {},
   "outputs": [
    {
     "data": {
      "text/html": [
       "<div>\n",
       "<style scoped>\n",
       "    .dataframe tbody tr th:only-of-type {\n",
       "        vertical-align: middle;\n",
       "    }\n",
       "\n",
       "    .dataframe tbody tr th {\n",
       "        vertical-align: top;\n",
       "    }\n",
       "\n",
       "    .dataframe thead th {\n",
       "        text-align: right;\n",
       "    }\n",
       "</style>\n",
       "<table border=\"1\" class=\"dataframe\">\n",
       "  <thead>\n",
       "    <tr style=\"text-align: right;\">\n",
       "      <th></th>\n",
       "      <th>Material</th>\n",
       "      <th>Xm</th>\n",
       "      <th>Xp</th>\n",
       "      <th>WLMTO_d</th>\n",
       "      <th>Wcal_d</th>\n",
       "      <th>d_c</th>\n",
       "      <th>COBE</th>\n",
       "    </tr>\n",
       "  </thead>\n",
       "  <tbody>\n",
       "    <tr>\n",
       "      <th>0</th>\n",
       "      <td>Ag3Ag@Ag</td>\n",
       "      <td>4.44</td>\n",
       "      <td>1.93</td>\n",
       "      <td>31.37</td>\n",
       "      <td>1.10</td>\n",
       "      <td>-3.92</td>\n",
       "      <td>-0.09</td>\n",
       "    </tr>\n",
       "    <tr>\n",
       "      <th>1</th>\n",
       "      <td>Ag3Au@Ag</td>\n",
       "      <td>4.74</td>\n",
       "      <td>2.07</td>\n",
       "      <td>31.19</td>\n",
       "      <td>1.13</td>\n",
       "      <td>-3.86</td>\n",
       "      <td>-0.11</td>\n",
       "    </tr>\n",
       "    <tr>\n",
       "      <th>2</th>\n",
       "      <td>Ag3Co@Ag</td>\n",
       "      <td>4.40</td>\n",
       "      <td>1.92</td>\n",
       "      <td>30.56</td>\n",
       "      <td>1.19</td>\n",
       "      <td>-3.90</td>\n",
       "      <td>-0.11</td>\n",
       "    </tr>\n",
       "    <tr>\n",
       "      <th>3</th>\n",
       "      <td>Ag3Cr@Ag</td>\n",
       "      <td>4.25</td>\n",
       "      <td>1.86</td>\n",
       "      <td>30.58</td>\n",
       "      <td>1.13</td>\n",
       "      <td>-4.03</td>\n",
       "      <td>-0.12</td>\n",
       "    </tr>\n",
       "    <tr>\n",
       "      <th>4</th>\n",
       "      <td>Ag3Cu@Ag</td>\n",
       "      <td>4.45</td>\n",
       "      <td>1.92</td>\n",
       "      <td>31.43</td>\n",
       "      <td>1.16</td>\n",
       "      <td>-3.99</td>\n",
       "      <td>-0.08</td>\n",
       "    </tr>\n",
       "  </tbody>\n",
       "</table>\n",
       "</div>"
      ],
      "text/plain": [
       "   Material    Xm    Xp  WLMTO_d  Wcal_d   d_c  COBE\n",
       "0  Ag3Ag@Ag  4.44  1.93    31.37    1.10 -3.92 -0.09\n",
       "1  Ag3Au@Ag  4.74  2.07    31.19    1.13 -3.86 -0.11\n",
       "2  Ag3Co@Ag  4.40  1.92    30.56    1.19 -3.90 -0.11\n",
       "3  Ag3Cr@Ag  4.25  1.86    30.58    1.13 -4.03 -0.12\n",
       "4  Ag3Cu@Ag  4.45  1.92    31.43    1.16 -3.99 -0.08"
      ]
     },
     "execution_count": 29,
     "metadata": {},
     "output_type": "execute_result"
    }
   ],
   "source": [
    "import pandas as pd\n",
    "df = pd.read_csv('cat.csv')\n",
    "df.head()"
   ]
  },
  {
   "cell_type": "markdown",
   "metadata": {},
   "source": [
    "x and y can be separated from the data as shown below. The optimal binding energy for the CO2 reduction reaction is -0.67 eV. So here we set it as well."
   ]
  },
  {
   "cell_type": "code",
   "execution_count": 23,
   "metadata": {},
   "outputs": [],
   "source": [
    "data = df.iloc[:,1:].to_numpy()\n",
    "x = data[:,:5]\n",
    "y = data[:,5]\n",
    "y_optimum = -0.67"
   ]
  },
  {
   "cell_type": "markdown",
   "metadata": {},
   "source": [
    "# Model Loading\n",
    "Below shows the model loading. We are setting some hyperparameter for kernel, but it will be optimized together so it does not matter what value we set the hyperparameters for."
   ]
  },
  {
   "cell_type": "code",
   "execution_count": 31,
   "metadata": {},
   "outputs": [],
   "source": [
    "import warnings\n",
    "from sklearn.exceptions import ConvergenceWarning\n",
    "with warnings.catch_warnings():\n",
    "    warnings.filterwarnings(\"ignore\", category=ConvergenceWarning)\n",
    "from sklearn.gaussian_process import GaussianProcessRegressor\n",
    "from sklearn.gaussian_process.kernels import RBF\n",
    "# set up model\n",
    "kernel = 1.0 * RBF(length_scale=0.5)\n",
    "gpr = GaussianProcessRegressor(kernel=kernel, random_state=0)"
   ]
  },
  {
   "cell_type": "markdown",
   "metadata": {},
   "source": [
    "# Homework (a)\n",
    "Use the random.sample function to randomly select the index of the first data base consisting of 3 data points. Fill inthe blank. Look up the function arguments of the random.sample."
   ]
  },
  {
   "cell_type": "code",
   "execution_count": 25,
   "metadata": {
    "colab": {
     "base_uri": "https://localhost:8080/"
    },
    "executionInfo": {
     "elapsed": 276,
     "status": "ok",
     "timestamp": 1666163315491,
     "user": {
      "displayName": "에너지공학부/구근호",
      "userId": "09292163357270917481"
     },
     "user_tz": -540
    },
    "id": "lBzKg7wa9dBg",
    "outputId": "bbffd921-8f0b-42c4-c13a-ad7f2754a716"
   },
   "outputs": [],
   "source": [
    "import numpy as np\n",
    "import random\n",
    "# our initial data sampling\n",
    "####################### Fill in here ########################\n",
    "train_idx = random.sample(list(range(len(x))),3)\n",
    "####################### Fill in here ########################\n",
    "x_train = x[train_idx,:]\n",
    "y_train = y[train_idx]"
   ]
  },
  {
   "cell_type": "code",
   "execution_count": 26,
   "metadata": {},
   "outputs": [
    {
     "data": {
      "text/html": [
       "<style>#sk-container-id-1 {color: black;}#sk-container-id-1 pre{padding: 0;}#sk-container-id-1 div.sk-toggleable {background-color: white;}#sk-container-id-1 label.sk-toggleable__label {cursor: pointer;display: block;width: 100%;margin-bottom: 0;padding: 0.3em;box-sizing: border-box;text-align: center;}#sk-container-id-1 label.sk-toggleable__label-arrow:before {content: \"▸\";float: left;margin-right: 0.25em;color: #696969;}#sk-container-id-1 label.sk-toggleable__label-arrow:hover:before {color: black;}#sk-container-id-1 div.sk-estimator:hover label.sk-toggleable__label-arrow:before {color: black;}#sk-container-id-1 div.sk-toggleable__content {max-height: 0;max-width: 0;overflow: hidden;text-align: left;background-color: #f0f8ff;}#sk-container-id-1 div.sk-toggleable__content pre {margin: 0.2em;color: black;border-radius: 0.25em;background-color: #f0f8ff;}#sk-container-id-1 input.sk-toggleable__control:checked~div.sk-toggleable__content {max-height: 200px;max-width: 100%;overflow: auto;}#sk-container-id-1 input.sk-toggleable__control:checked~label.sk-toggleable__label-arrow:before {content: \"▾\";}#sk-container-id-1 div.sk-estimator input.sk-toggleable__control:checked~label.sk-toggleable__label {background-color: #d4ebff;}#sk-container-id-1 div.sk-label input.sk-toggleable__control:checked~label.sk-toggleable__label {background-color: #d4ebff;}#sk-container-id-1 input.sk-hidden--visually {border: 0;clip: rect(1px 1px 1px 1px);clip: rect(1px, 1px, 1px, 1px);height: 1px;margin: -1px;overflow: hidden;padding: 0;position: absolute;width: 1px;}#sk-container-id-1 div.sk-estimator {font-family: monospace;background-color: #f0f8ff;border: 1px dotted black;border-radius: 0.25em;box-sizing: border-box;margin-bottom: 0.5em;}#sk-container-id-1 div.sk-estimator:hover {background-color: #d4ebff;}#sk-container-id-1 div.sk-parallel-item::after {content: \"\";width: 100%;border-bottom: 1px solid gray;flex-grow: 1;}#sk-container-id-1 div.sk-label:hover label.sk-toggleable__label {background-color: #d4ebff;}#sk-container-id-1 div.sk-serial::before {content: \"\";position: absolute;border-left: 1px solid gray;box-sizing: border-box;top: 0;bottom: 0;left: 50%;z-index: 0;}#sk-container-id-1 div.sk-serial {display: flex;flex-direction: column;align-items: center;background-color: white;padding-right: 0.2em;padding-left: 0.2em;position: relative;}#sk-container-id-1 div.sk-item {position: relative;z-index: 1;}#sk-container-id-1 div.sk-parallel {display: flex;align-items: stretch;justify-content: center;background-color: white;position: relative;}#sk-container-id-1 div.sk-item::before, #sk-container-id-1 div.sk-parallel-item::before {content: \"\";position: absolute;border-left: 1px solid gray;box-sizing: border-box;top: 0;bottom: 0;left: 50%;z-index: -1;}#sk-container-id-1 div.sk-parallel-item {display: flex;flex-direction: column;z-index: 1;position: relative;background-color: white;}#sk-container-id-1 div.sk-parallel-item:first-child::after {align-self: flex-end;width: 50%;}#sk-container-id-1 div.sk-parallel-item:last-child::after {align-self: flex-start;width: 50%;}#sk-container-id-1 div.sk-parallel-item:only-child::after {width: 0;}#sk-container-id-1 div.sk-dashed-wrapped {border: 1px dashed gray;margin: 0 0.4em 0.5em 0.4em;box-sizing: border-box;padding-bottom: 0.4em;background-color: white;}#sk-container-id-1 div.sk-label label {font-family: monospace;font-weight: bold;display: inline-block;line-height: 1.2em;}#sk-container-id-1 div.sk-label-container {text-align: center;}#sk-container-id-1 div.sk-container {/* jupyter's `normalize.less` sets `[hidden] { display: none; }` but bootstrap.min.css set `[hidden] { display: none !important; }` so we also need the `!important` here to be able to override the default hidden behavior on the sphinx rendered scikit-learn.org. See: https://github.com/scikit-learn/scikit-learn/issues/21755 */display: inline-block !important;position: relative;}#sk-container-id-1 div.sk-text-repr-fallback {display: none;}</style><div id=\"sk-container-id-1\" class=\"sk-top-container\"><div class=\"sk-text-repr-fallback\"><pre>GaussianProcessRegressor(kernel=1**2 * RBF(length_scale=0.5), random_state=0)</pre><b>In a Jupyter environment, please rerun this cell to show the HTML representation or trust the notebook. <br />On GitHub, the HTML representation is unable to render, please try loading this page with nbviewer.org.</b></div><div class=\"sk-container\" hidden><div class=\"sk-item\"><div class=\"sk-estimator sk-toggleable\"><input class=\"sk-toggleable__control sk-hidden--visually\" id=\"sk-estimator-id-1\" type=\"checkbox\" checked><label for=\"sk-estimator-id-1\" class=\"sk-toggleable__label sk-toggleable__label-arrow\">GaussianProcessRegressor</label><div class=\"sk-toggleable__content\"><pre>GaussianProcessRegressor(kernel=1**2 * RBF(length_scale=0.5), random_state=0)</pre></div></div></div></div></div>"
      ],
      "text/plain": [
       "GaussianProcessRegressor(kernel=1**2 * RBF(length_scale=0.5), random_state=0)"
      ]
     },
     "execution_count": 26,
     "metadata": {},
     "output_type": "execute_result"
    }
   ],
   "source": [
    "# fit\n",
    "gpr.fit(x_train,y_train)"
   ]
  },
  {
   "cell_type": "markdown",
   "metadata": {},
   "source": [
    "# Homework (b)\n",
    "Write function to get the test set that is the data points that are not in the training set. "
   ]
  },
  {
   "cell_type": "code",
   "execution_count": 27,
   "metadata": {},
   "outputs": [],
   "source": [
    "def get_test_set(x,y,train_idx):\n",
    "    ####################### Fill in here ########################\n",
    "    x_test = x[[i for i in range(len(x)) if i not in train_idx],:]\n",
    "    y_test = y[[i for i in range(len(x)) if i not in train_idx]]\n",
    "    ####################### Fill in here ########################\n",
    "    return x_test,y_test\n",
    "\n",
    "x_test,y_test = get_test_set(x,y,train_idx)"
   ]
  },
  {
   "cell_type": "markdown",
   "metadata": {},
   "source": [
    "Below is the code that calculates the mean of the standard deviation of the test points. As you can see, the model is not quite confident about its prediction."
   ]
  },
  {
   "cell_type": "code",
   "execution_count": 28,
   "metadata": {},
   "outputs": [
    {
     "name": "stdout",
     "output_type": "stream",
     "text": [
      "0.6150433396445876\n"
     ]
    }
   ],
   "source": [
    "y_test, y_test_std = gpr.predict(x_test,return_std=True)\n",
    "print(np.mean(y_test_std))"
   ]
  },
  {
   "cell_type": "markdown",
   "metadata": {
    "id": "kXG92PKGBGfA"
   },
   "source": [
    "# Homework (c) exploration\n",
    "The following function below find the data point with the highest uncertainty, and add it to the training set.\n",
    "Write a one line of code for finding the index of the data point with the highest uncertainty."
   ]
  },
  {
   "cell_type": "code",
   "execution_count": 14,
   "metadata": {
    "executionInfo": {
     "elapsed": 2,
     "status": "ok",
     "timestamp": 1666163116121,
     "user": {
      "displayName": "에너지공학부/구근호",
      "userId": "09292163357270917481"
     },
     "user_tz": -540
    },
    "id": "mwYEkVsqBEqi"
   },
   "outputs": [],
   "source": [
    "def addpoint_exploration(gpr,x,y,train_idx):\n",
    "    x_test,y_test = get_test_set(x,y,train_idx)\n",
    "    y_test, y_test_std = gpr.predict(x_test, return_std=True)\n",
    "    ####################### Fill in here ########################\n",
    "    train_idx_new = int(np.argmax(y_p_std))\n",
    "    ####################### Fill in here ########################\n",
    "    train_idx.append(train_idx_new)\n",
    "\n",
    "    x_train,y_train = x[train_idx,:], y[train_idx]\n",
    "    gpr.fit(x_train,y_train)\n",
    "    \n",
    "    x_test,y_test = get_test_set(x,y,train_idx)\n",
    "    y_test_, y_test_std = gpr.predict(x_test, return_std=True)\n",
    "    print('%.3f'%np.mean(y_p_std),np.mean(np.abs(y_p-y_p_)),len(train_idx))\n",
    "\n",
    "for _ in range(5):\n",
    "  addpoint_exploration(gpr,x,y,train_idx)"
   ]
  },
  {
   "cell_type": "markdown",
   "metadata": {},
   "source": [
    "# Homework (d) exploitation\n",
    "The following function below find the data point with the y value closest to the optimum, and add it to the training set.\n",
    "Write a one line of code for finding the index of the data point with the highest uncertainty.\n",
    "The equation we will use to find the optimal point is the data with y value closest to the optimum, while the uncertainty is also the smallest:\n",
    "\n",
    "$$\n",
    "\\arg \\min_{i\\in\\chi} [\\left | y_{opt} - y_{i}  \\right | + \\sigma_{i}]\n",
    "$$\n"
   ]
  },
  {
   "cell_type": "code",
   "execution_count": null,
   "metadata": {},
   "outputs": [],
   "source": [
    "def addpoint_exploitation(gpr,x,y,train_idx):\n",
    "    x_test,y_test = get_test_set(x,y,train_idx)\n",
    "    y_test, y_test_std = gpr.predict(x_test, return_std=True)\n",
    "    ####################### Fill in here ########################\n",
    "    distance_from_optimal = np.abs(y_test - y_optimum)+y_test_std\n",
    "    train_idx_new = int(np.argmin(distance_from_optimal))\n",
    "    ####################### Fill in here ########################\n",
    "    train_idx.append(train_idx_new)\n",
    "\n",
    "    x_train,y_train = x[train_idx,:], y[train_idx]\n",
    "    best_idx = np.argmin(np.abs(y_train - y_optimum))\n",
    "    print(y_train[best_idx])\n",
    "\n",
    "for _ in range(5):\n",
    "  addpoint_exploitation(gpr,x,y,train_idx)"
   ]
  }
 ],
 "metadata": {
  "accelerator": "GPU",
  "colab": {
   "authorship_tag": "ABX9TyO+vINPTt6+3sFHUdDzUD7A",
   "collapsed_sections": [],
   "provenance": []
  },
  "gpuClass": "standard",
  "kernelspec": {
   "display_name": "Python 3 (ipykernel)",
   "language": "python",
   "name": "python3"
  },
  "language_info": {
   "codemirror_mode": {
    "name": "ipython",
    "version": 3
   },
   "file_extension": ".py",
   "mimetype": "text/x-python",
   "name": "python",
   "nbconvert_exporter": "python",
   "pygments_lexer": "ipython3",
   "version": "3.11.6"
  }
 },
 "nbformat": 4,
 "nbformat_minor": 4
}
