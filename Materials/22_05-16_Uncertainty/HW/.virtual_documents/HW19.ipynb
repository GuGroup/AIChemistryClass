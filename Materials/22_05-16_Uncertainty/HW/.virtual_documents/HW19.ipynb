


import pandas as pd
df = pd.read_csv('HW19_data.csv')
df.head()





data = df.iloc[:,1:].to_numpy()
x = data[:,:5]
y = data[:,5]
y_optimum = -0.67





def warn(*args, **kwargs):
    pass
import warnings
warnings.warn = warn
from sklearn.gaussian_process import GaussianProcessRegressor
from sklearn.gaussian_process.kernels import RBF
# set up model
kernel = 1.0 * RBF(length_scale=0.5)
gpr = GaussianProcessRegressor(kernel=kernel, random_state=0)





import numpy as np
import random
# our initial data sampling
####################### Fill in here ########################
train_idx = random.sample(####Fill in here####)
####################### Fill in here ########################
x_train = x[train_idx,:]
y_train = y[train_idx]


# fit
gpr.fit(x_train,y_train)





def get_test_set(x,y,train_idx):
    ####################### Fill in here ########################
    
    x_test = 
    
    y_test = 
    ####################### Fill in here ########################
    return x_test,y_test

x_test,y_test = get_test_set(x,y,train_idx)





y_test, y_test_std = gpr.predict(x_test,return_std=True)
print(np.mean(y_test_std))





def addpoint_exploration(gpr,x,y,train_idx):
    x_test,y_test = get_test_set(x,y,train_idx)
    y_test, y_test_std = gpr.predict(x_test, return_std=True)
    ####################### Fill in here ########################
    train_idx_new = 
    ####################### Fill in here ########################
    train_idx.append(train_idx_new)

    x_train,y_train = x[train_idx,:], y[train_idx]
    gpr.fit(x_train,y_train)
    
    x_test,y_test = get_test_set(x,y,train_idx)
    y_test_, y_test_std = gpr.predict(x_test, return_std=True)
    print('The number of data point is %d'%len(train_idx),'The mean of standard deviation is %.3f.'%np.mean(y_test_std),'Mean Absolute error is %.3f.'%np.mean(np.abs(y_test-y_test_)))

for _ in range(5):
  addpoint_exploration(gpr,x,y,train_idx)





def addpoint_exploitation(gpr,x,y,train_idx):
    x_test,y_test = get_test_set(x,y,train_idx)
    y_test, y_test_std = gpr.predict(x_test, return_std=True)
    ####################### Fill in here ########################

    train_idx_new = 
    ####################### Fill in here ########################
    train_idx.append(train_idx_new)

    x_train,y_train = x[train_idx,:], y[train_idx]
    best_idx = np.argmin(np.abs(y_train - y_optimum))
    print("The optimal data point's value is ",y_train[best_idx])

for _ in range(5):
  addpoint_exploitation(gpr,x,y,train_idx)
